{
 "cells": [
  {
   "cell_type": "code",
   "execution_count": 2,
   "metadata": {},
   "outputs": [],
   "source": [
    "%matplotlib inline\n",
    "import os\n",
    "import pathlib\n",
    "import pandas as pd\n",
    "import matplotlib.pyplot as plt\n",
    "import numpy as np\n",
    "import json\n",
    "import ipywidgets as widgets\n",
    "import datetime\n",
    "import seaborn as sns\n",
    "import scipy\n",
    "import statsmodels.api as sm\n",
    "from ipywidgets import interact, interact_manual\n",
    "import dateutil.parser\n",
    "from tqdm.notebook import tqdm\n"
   ]
  },
  {
   "cell_type": "code",
   "execution_count": 3,
   "metadata": {},
   "outputs": [],
   "source": [
    "# input\n",
    "dir_eo = '../data/wps-reservoir-time-series-latest/time_series_area_raw/'\n",
    "\n",
    "# output\n",
    "dir_eo_monthly = '../data/wps-reservoir-time-series-latest/time_series_area_monthly/' \n",
    "dir_eo_raw = '../data/wps-reservoir-time-series-latest/time_series_area/' # raw time,area series only"
   ]
  },
  {
   "cell_type": "code",
   "execution_count": 4,
   "metadata": {},
   "outputs": [],
   "source": [
    "pathlib.Path(dir_eo_monthly).mkdir(exist_ok=True)\n",
    "pathlib.Path(dir_eo_raw).mkdir(exist_ok=True)"
   ]
  },
  {
   "cell_type": "code",
   "execution_count": 5,
   "metadata": {},
   "outputs": [],
   "source": [
    "reservoirs_by_filenames = list(pathlib.Path(dir_eo).glob('*.geojson'))"
   ]
  },
  {
   "cell_type": "code",
   "execution_count": 6,
   "metadata": {},
   "outputs": [],
   "source": [
    "# specific file only\n",
    "# reservoirs_by_filenames = list(pathlib.Path(dir_eo).glob('0090567.geojson'))"
   ]
  },
  {
   "cell_type": "code",
   "execution_count": 243,
   "metadata": {},
   "outputs": [],
   "source": [
    "def get_data(filename):\n",
    "    ts = json.loads(open(dir_eo + filename).read())['features'][0]['properties']\n",
    "    \n",
    "    df = pd.DataFrame({ \n",
    "        'time': ts['water_area_time'], 'water_area_filled': ts['water_area_filled'], 'area': ts['water_area_filled'], 'mission': ts['mission'],\n",
    "        'ndwi_threshold': ts['ndwi_threshold'], 'quality_score': ts['quality_score'], \n",
    "        'water_area_filled_fraction': ts['water_area_filled_fraction'], \n",
    "        'water_area_p': ts['water_area_p'], 'water_area_value': ts['water_area_value']\n",
    "    })\n",
    "    \n",
    "    df['time_ms'] = df.time\n",
    "\n",
    "    df.time = pd.to_datetime(df.time, unit='ms')\n",
    "    df = df.set_index('time')\n",
    "    \n",
    "    df = df[df.water_area_filled_fraction < 0.4]\n",
    "    \n",
    "    return df"
   ]
  },
  {
   "cell_type": "code",
   "execution_count": 8,
   "metadata": {},
   "outputs": [],
   "source": [
    "# remove large gradients\n",
    "def remove_large_gradients(df, th):\n",
    "    df['water_area_filled_grad'] = df.area.diff()\n",
    "    df = df[pd.notnull(df.water_area_filled_grad)]\n",
    "\n",
    "    if len(df.water_area_filled_grad.to_numpy()):\n",
    "        grad_th = np.percentile(np.abs(df.water_area_filled_grad.to_numpy()), th)\n",
    "        df = df[np.abs(df.water_area_filled_grad) < grad_th]\n",
    "\n",
    "    return df\n"
   ]
  },
  {
   "cell_type": "code",
   "execution_count": 9,
   "metadata": {},
   "outputs": [],
   "source": [
    "def clean_data_v1(df_eo):\n",
    "    df_eo['area'] = df_eo.water_area_filled\n",
    "    \n",
    "    # round to days\n",
    "    df_eo.index = df_eo.index.round('D')\n",
    "    \n",
    "#     df_eo = remove_large_gradients(df_eo, 75)\n",
    "#     df_eo = remove_large_gradients(df_eo, 90)\n",
    "\n",
    "#     df_eo = remove_large_gradients(df_eo, 85)\n",
    "#     df_eo = remove_large_gradients(df_eo, 85)\n",
    "    \n",
    "    df_eo = remove_large_gradients(df_eo, 90)\n",
    "    df_eo = remove_large_gradients(df_eo, 99)\n",
    "\n",
    "    # take top 90% (eliminate underfilling due to lower trust in water occurrence)\n",
    "#     df_eo = df_eo.resample('M').max() \n",
    "    df_eo = df_eo.resample('M').apply(lambda x: x.quantile(0.98))\n",
    "\n",
    "    if len(df_eo) == 0:\n",
    "        return df_eo\n",
    "    \n",
    "    # smoothen using akima\n",
    "    df_eo = df_eo.interpolate(method='akima')\n",
    "#     df_eo = df_eo.interpolate(method='barycentric')\n",
    "    df_eo = df_eo.shift(-1)\n",
    "\n",
    "\n",
    "\n",
    "#     df2 = df2.sort_index()\n",
    "#     z = sm.nonparametric.lowess(df2.water_area_filled, df2.time_ms, return_sorted=False, frac=1/200)\n",
    "#     df2['z'] = z\n",
    "#     ax.plot(df2.index, df2.z, 'g-')\n",
    "\n",
    "#     df3 = df2.resample('W').max().interpolate(method='polynomial', order=2)\n",
    "#     df3 = df3.ewm(span = 3).mean()\n",
    "\n",
    "\n",
    "#     df3 = df3.resample('3W').mean()\n",
    "    \n",
    "#     df3 = df3.shift(-1)\n",
    "#     df3 = df2.resample('W').max().interpolate(method='linear')\n",
    "#     df2 = df2.resample('D').interpolate(method='polynomial', order=2)\n",
    "#     df2 = df2.resample('D').interpolate(method='akima')\n",
    "\n",
    "#     df4 = df3.sort_index()\n",
    "#     z = sm.nonparametric.lowess(df4.water_area_filled, df4.time_ms, return_sorted=False, frac=1/100)\n",
    "#     df4['z'] = z\n",
    "#     ax.plot(df4.index, df4.z, 'b-')\n",
    "   \n",
    "#     ax.plot(df2.index, df2.water_area_filled, 'b-')\n",
    " \n",
    "\n",
    "    return df_eo"
   ]
  },
  {
   "cell_type": "code",
   "execution_count": 10,
   "metadata": {},
   "outputs": [],
   "source": [
    "def clean_data(df_eo, step='M', skip_missings=True, min_missings_step=12):\n",
    "    d = df_eo\n",
    "    d['area'] = d.water_area_filled\n",
    "    d = d[['area']]\n",
    "\n",
    "    # round to days\n",
    "    d.index = d.index.round('D')\n",
    "\n",
    "#     d = remove_large_gradients(d, 90)\n",
    "#     d = remove_large_gradients(d, 99)\n",
    "\n",
    "    # take top 90% (eliminate underfilling due to lower trust in water occurrence)\n",
    "    d = d.resample(step).apply(lambda x: x.quantile(0.90))\n",
    "\n",
    "    # create mask\n",
    "    if skip_missings:\n",
    "        mask = d.copy()\n",
    "        grp = ((mask.notnull() != mask.shift().notnull()).cumsum())\n",
    "        grp['ones'] = 1\n",
    "        mask['area'] = (grp.groupby('area')['ones'].transform('count') < min_missings_step) | d['area'].notnull()\n",
    "\n",
    "    # smoothen\n",
    "    d = d.interpolate(method='pchip')\n",
    "    # d = d.shift(-1)\n",
    "\n",
    "    # apply missing values mask (>6 months)\n",
    "    if skip_missings:\n",
    "        d[mask.area == False] = None\n",
    "\n",
    "    return d"
   ]
  },
  {
   "cell_type": "code",
   "execution_count": 244,
   "metadata": {},
   "outputs": [],
   "source": [
    "def plot(filename):\n",
    "    df = get_data(filename)\n",
    "\n",
    "#     date_start = '2000-01-01'\n",
    "#     date_stop = '2018-08-01'\n",
    "#     df = df[df.index > dateutil.parser.parse(date_start)]\n",
    "\n",
    "    fig, ax = plt.subplots(figsize=(20, 7))\n",
    "    \n",
    "#     ax.plot(df.index, df.water_area_value, 'r.', alpha=0.3)\n",
    "#     ax.plot(df.index, df.water_area_filled, 'g.')\n",
    "#     ax.set_xlim([dateutil.parser.parse(date_start), dateutil.parser.parse(date_stop)])    \n",
    "    \n",
    "    df_clean = clean_data(df)\n",
    "\n",
    "    # plot original points\n",
    "    ax.plot(df.index, df.area, 'r.', alpha = 0.9, markersize=2)\n",
    "\n",
    "    # plot interpolated smoothed, converted to equidistant time scale\n",
    "    ax.plot(df_clean.index, df_clean.area, 'k-')\n",
    "    \n",
    "#     ax.plot(df_monthly.time, df_monthly.area, 'k-')\n",
    "#     ax.scatter(df_raw.time, df_raw.area, s=2, alpha=0.9, color='red')    \n",
    "    plt.grid(axis='both')\n",
    "    \n",
    "    plt.show()\n",
    "    \n",
    "    return df\n",
    "\n",
    "    "
   ]
  },
  {
   "cell_type": "code",
   "execution_count": 169,
   "metadata": {},
   "outputs": [
    {
     "data": {
      "image/png": "[encoded data removed]",
      "text/plain": [
       "<Figure size 1440x504 with 1 Axes>"
      ]
     },
     "metadata": {
      "needs_background": "light"
     },
     "output_type": "display_data"
    }
   ],
   "source": [
    "de = plot('0086911.geojson')"
   ]
  },
  {
   "cell_type": "code",
   "execution_count": 30,
   "metadata": {},
   "outputs": [],
   "source": [
    "import tqdm.notebook"
   ]
  },
  {
   "cell_type": "code",
   "execution_count": 31,
   "metadata": {},
   "outputs": [
    {
     "data": {
      "application/vnd.jupyter.widget-view+json": {
       "model_id": "c44cc2b6750d4ecdb77dd64604ff5000",
       "version_major": 2,
       "version_minor": 0
      },
      "text/plain": [
       "HBox(children=(FloatProgress(value=0.0, max=1.0), HTML(value='')))"
      ]
     },
     "metadata": {},
     "output_type": "display_data"
    },
    {
     "name": "stdout",
     "output_type": "stream",
     "text": [
      "\n"
     ]
    }
   ],
   "source": [
    "# export all\n",
    "\n",
    "start_index = 0\n",
    "\n",
    "for f in tqdm.notebook.tqdm(list(reservoirs_by_filenames)[start_index:]):\n",
    "    df = get_data(f.name)\n",
    "\n",
    "    if(not df.size):\n",
    "        print('Empty, ' + str(f) + ' skipping ...')\n",
    "        continue\n",
    "    df = clean_data(df)\n",
    "    \n",
    "    df.loc[df.area < 0, 'area'] = 0\n",
    "    \n",
    "    df[['area']].dropna().to_csv(dir_eo_monthly + str(f.name).split('.')[0] + '.csv')"
   ]
  },
  {
   "cell_type": "code",
   "execution_count": 32,
   "metadata": {},
   "outputs": [
    {
     "data": {
      "application/vnd.jupyter.widget-view+json": {
       "model_id": "ed5947f5e78f42679599cc22c4c45f46",
       "version_major": 2,
       "version_minor": 0
      },
      "text/plain": [
       "HBox(children=(FloatProgress(value=0.0, max=1.0), HTML(value='')))"
      ]
     },
     "metadata": {},
     "output_type": "display_data"
    },
    {
     "name": "stdout",
     "output_type": "stream",
     "text": [
      "\n"
     ]
    }
   ],
   "source": [
    "# export raw\n",
    "for f in tqdm.notebook.tqdm(reservoirs_by_filenames):\n",
    "    df = json.loads(open(dir_eo + f.name).read())['features'][0]['properties']\n",
    "    df = pd.DataFrame({ 'time': df['water_area_time'], 'area': df['water_area_filled'] })\n",
    "    df.time = pd.to_datetime(df.time, unit='ms')\n",
    "    df.index = df.time\n",
    "    \n",
    "    if(not df.size): \n",
    "        print('Empty, ' + str(f) + ' skipping ...')\n",
    "        continue\n",
    "        \n",
    "    df[['area']].to_csv(dir_eo_raw + f.name.split('.')[0] + '.csv', date_format='%Y-%m-%d %H:%M')"
   ]
  },
  {
   "cell_type": "code",
   "execution_count": null,
   "metadata": {},
   "outputs": [],
   "source": [
    "# export daily and monthly with ms timestamps"
   ]
  },
  {
   "cell_type": "code",
   "execution_count": 33,
   "metadata": {},
   "outputs": [],
   "source": [
    "path = pathlib.Path(dir_eo_raw)\n",
    "dir_eo_raw_ms = path.parent / f'{path.name}-ms'\n",
    "dir_eo_raw_ms.mkdir(exist_ok=True)\n",
    "\n",
    "path = pathlib.Path(dir_eo_monthly)\n",
    "dir_eo_monthly_ms = path.parent / f'{path.name}-ms'\n",
    "dir_eo_monthly_ms.mkdir(exist_ok=True)"
   ]
  },
  {
   "cell_type": "code",
   "execution_count": 22,
   "metadata": {},
   "outputs": [],
   "source": [
    "t_epoch = np.datetime64('1970-01-01T00:00:00')\n",
    "sec = np.timedelta64(1, 's')"
   ]
  },
  {
   "cell_type": "code",
   "execution_count": 31,
   "metadata": {},
   "outputs": [
    {
     "data": {
      "application/vnd.jupyter.widget-view+json": {
       "model_id": "b4b33753efc549a9b18433bc67ab958e",
       "version_major": 2,
       "version_minor": 0
      },
      "text/plain": [
       "HBox(children=(FloatProgress(value=0.0, max=71208.0), HTML(value='')))"
      ]
     },
     "metadata": {},
     "output_type": "display_data"
    },
    {
     "name": "stdout",
     "output_type": "stream",
     "text": [
      "\n"
     ]
    }
   ],
   "source": [
    "# convert raw (datetime, area) => (timestamp, area)\n",
    "for path in tqdm(reservoirs_by_filenames):\n",
    "    path_in = pathlib.Path(dir_eo_raw) / f'{path.stem}.csv'\n",
    "    path_out = dir_eo_raw_ms / f'{path.stem}.parquet'\n",
    "\n",
    "    if not os.path.exists(path_in):\n",
    "        continue\n",
    "\n",
    "#     if os.path.exists(path_out):\n",
    "#         continue\n",
    "        \n",
    "    df = pd.read_csv(path_in)\n",
    "    df['time']= df.time.apply(lambda t: int((np.datetime64(t) - t_epoch) / sec))\n",
    "\n",
    "    df.to_parquet(path_out, index=False)\n"
   ]
  },
  {
   "cell_type": "code",
   "execution_count": 34,
   "metadata": {},
   "outputs": [
    {
     "data": {
      "application/vnd.jupyter.widget-view+json": {
       "model_id": "72d6ad5d31dc4362877686e87e466b98",
       "version_major": 2,
       "version_minor": 0
      },
      "text/plain": [
       "HBox(children=(FloatProgress(value=0.0, max=71208.0), HTML(value='')))"
      ]
     },
     "metadata": {},
     "output_type": "display_data"
    },
    {
     "name": "stdout",
     "output_type": "stream",
     "text": [
      "\n"
     ]
    }
   ],
   "source": [
    "# convert raw (datetime, area) => (timestamp, area)\n",
    "for path in tqdm(reservoirs_by_filenames):\n",
    "    path_in = pathlib.Path(dir_eo_monthly) / f'{path.stem}.csv'\n",
    "    path_out = dir_eo_monthly_ms / f'{path.stem}.parquet'\n",
    "    \n",
    "    if not os.path.exists(path_in):\n",
    "        continue\n",
    "    \n",
    "    df = pd.read_csv(path_in)\n",
    "    df['time']= df.time.apply(lambda t: int((np.datetime64(t) - t_epoch) / sec))\n",
    "    \n",
    "    df.to_parquet(path_out, index=False)\n"
   ]
  },
  {
   "cell_type": "code",
   "execution_count": null,
   "metadata": {},
   "outputs": [],
   "source": [
    "\n",
    "\n",
    "\n",
    "\n",
    "\n",
    "\n",
    "\n",
    "\n"
   ]
  },
  {
   "cell_type": "code",
   "execution_count": 245,
   "metadata": {},
   "outputs": [],
   "source": [
    "def detect_jump_2019(filename):\n",
    "    df = get_data(filename)\n",
    "\n",
    "#     date_start = '2000-01-01'\n",
    "#     date_stop = '2018-08-01'\n",
    "#     df = df[df.index > dateutil.parser.parse(date_start)]\n",
    "\n",
    "    date_start = '2017-01-01'\n",
    "    date_middle = '2018-01-01'\n",
    "    date_end = '2019-01-01'\n",
    "    \n",
    "    a1 = df[(df.index > dateutil.parser.parse(date_start)) & (df.index < dateutil.parser.parse(date_middle))].water_area_filled.mean()\n",
    "    a2 = df[(df.index > dateutil.parser.parse(date_middle)) & (df.index < dateutil.parser.parse(date_end))].water_area_filled.mean()\n",
    "    a3 = df[(df.index > dateutil.parser.parse(date_start)) & (df.index < dateutil.parser.parse(date_end))].water_area_filled.mean()\n",
    "    \n",
    "    return [a1 / a3, a2 / a3]\n"
   ]
  },
  {
   "cell_type": "code",
   "execution_count": 235,
   "metadata": {},
   "outputs": [
    {
     "data": {
      "application/vnd.jupyter.widget-view+json": {
       "model_id": "a8ed3b74fb184a679b568baf9e930875",
       "version_major": 2,
       "version_minor": 0
      },
      "text/plain": [
       "HBox(children=(FloatProgress(value=0.0, max=71208.0), HTML(value='')))"
      ]
     },
     "metadata": {},
     "output_type": "display_data"
    },
    {
     "name": "stdout",
     "output_type": "stream",
     "text": [
      "\n"
     ]
    }
   ],
   "source": [
    "ratios_before = []\n",
    "ratios_after = []\n",
    "ratios = []\n",
    "for f in tqdm(reservoirs_by_filenames):\n",
    "    r1, r2 = detect_jump_2019(f.name)\n",
    "    ratios.append(min(r1, r2) / max(r1, r2))\n",
    "    ratios_before.append(r1)\n",
    "    ratios_after.append(r2)"
   ]
  },
  {
   "cell_type": "code",
   "execution_count": 250,
   "metadata": {},
   "outputs": [],
   "source": [
    "def plot_ts(filename):\n",
    "    path = pathlib.Path(dir_eo_monthly) / (filename + '.csv')\n",
    "    df = pd.read_csv(path)\n",
    "    df.time = pd.to_datetime(df.time)\n",
    "\n",
    "    fig, ax = plt.subplots(figsize=(20, 7))\n",
    "#     ax.plot(df.time, df.area, 'k.')\n",
    "    ax.plot(df.time, df.area, 'k-', linewidth=0.5)\n",
    "\n",
    "    path = pathlib.Path(dir_eo_raw) / (filename + '.csv')\n",
    "    df = pd.read_csv(path)\n",
    "    df.time = pd.to_datetime(df.time)\n",
    "\n",
    "    ax.plot(df.time, df.area, 'b.', markersize=2)\n",
    "    \n",
    "    plt.grid(axis='both')\n",
    "    plt.show()\n",
    "        "
   ]
  },
  {
   "cell_type": "code",
   "execution_count": null,
   "metadata": {},
   "outputs": [],
   "source": []
  },
  {
   "cell_type": "code",
   "execution_count": null,
   "metadata": {},
   "outputs": [],
   "source": []
  },
  {
   "cell_type": "code",
   "execution_count": 251,
   "metadata": {},
   "outputs": [
    {
     "data": {
      "image/png": "[encoded data removed]",
      "text/plain": [
       "<Figure size 1440x504 with 1 Axes>"
      ]
     },
     "metadata": {
      "needs_background": "light"
     },
     "output_type": "display_data"
    }
   ],
   "source": [
    "plot_ts(f'{str(87235).zfill(7)}')"
   ]
  },
  {
   "cell_type": "code",
   "execution_count": 253,
   "metadata": {},
   "outputs": [
    {
     "name": "stdout",
     "output_type": "stream",
     "text": [
      "79\n"
     ]
    },
    {
     "data": {
      "application/vnd.jupyter.widget-view+json": {
       "model_id": "c0608ca669b94b198682e61ddc9a3595",
       "version_major": 2,
       "version_minor": 0
      },
      "text/plain": [
       "interactive(children=(IntSlider(value=0, description='i', max=78), Output()), _dom_classes=('widget-interact',…"
      ]
     },
     "metadata": {},
     "output_type": "display_data"
    }
   ],
   "source": [
    "indices = np.where(np.array(ratios) < 0.05)[0]\n",
    "print(len(indices))\n",
    "\n",
    "from ipywidgets import interact, interactive, fixed, interact_manual\n",
    "import ipywidgets as widgets\n",
    "\n",
    "@interact(i=widgets.IntSlider(min=0, max=len(indices)-1, step=1))\n",
    "def show(i):\n",
    "    print(reservoirs_by_filenames[indices[i]])\n",
    "    r1, r2 = detect_jump_2019(reservoirs_by_filenames[indices[i]].name)\n",
    "    print(min(r1, r2) / max(r1, r2))\n",
    "    plot_ts(reservoirs_by_filenames[indices[i]].stem)"
   ]
  },
  {
   "cell_type": "code",
   "execution_count": 83,
   "metadata": {},
   "outputs": [
    {
     "data": {
      "image/png": "[encoded data removed]",
      "text/plain": [
       "<Figure size 432x288 with 1 Axes>"
      ]
     },
     "metadata": {
      "needs_background": "light"
     },
     "output_type": "display_data"
    }
   ],
   "source": [
    "_ = plt.hist(ratios, bins=50)"
   ]
  },
  {
   "cell_type": "code",
   "execution_count": 37,
   "metadata": {},
   "outputs": [
    {
     "data": {
      "image/png": "[encoded data removed]",
      "text/plain": [
       "<Figure size 432x288 with 1 Axes>"
      ]
     },
     "metadata": {
      "needs_background": "light"
     },
     "output_type": "display_data"
    }
   ],
   "source": [
    "_ = plt.hist(ratios_before, bins=50)"
   ]
  },
  {
   "cell_type": "code",
   "execution_count": 38,
   "metadata": {},
   "outputs": [
    {
     "data": {
      "image/png": "[encoded data removed]",
      "text/plain": [
       "<Figure size 432x288 with 1 Axes>"
      ]
     },
     "metadata": {
      "needs_background": "light"
     },
     "output_type": "display_data"
    }
   ],
   "source": [
    "_ = plt.hist(ratios_after, bins=50)"
   ]
  }
 ],
 "metadata": {
  "kernelspec": {
   "display_name": "Python 3",
   "language": "python",
   "name": "python3"
  },
  "language_info": {
   "codemirror_mode": {
    "name": "ipython",
    "version": 3
   },
   "file_extension": ".py",
   "mimetype": "text/x-python",
   "name": "python",
   "nbconvert_exporter": "python",
   "pygments_lexer": "ipython3",
   "version": "3.7.6"
  }
 },
 "nbformat": 4,
 "nbformat_minor": 4
}
