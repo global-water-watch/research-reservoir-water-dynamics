{
 "cells": [
  {
   "cell_type": "markdown",
   "id": "91a72461-42f6-4fae-a5e9-f59e9457ebb3",
   "metadata": {},
   "source": [
    "# Bug in Lake Salton\n",
    "\n",
    "Lake Salton was at a historic water level low. This caused the JRC water filling to fail.\n",
    "In this notebook, this shortcoming is fixed using:\n",
    "\n",
    "- JRC extrapolation\n",
    "- mosaicking images by mission and day\n",
    "- filtering images by overlap with the waterbody"
   ]
  },
  {
   "cell_type": "code",
   "execution_count": 1,
   "id": "770c1ee5-9de3-4cee-b48b-87aa4a2c24ea",
   "metadata": {
    "tags": []
   },
   "outputs": [
    {
     "name": "stdout",
     "output_type": "stream",
     "text": [
      "\u001b[33mWARNING: Skipping eepackages as it is not installed.\u001b[0m\u001b[33m\n",
      "\u001b[0m"
     ]
    }
   ],
   "source": [
    "!pip uninstall -y eepackages"
   ]
  },
  {
   "cell_type": "code",
   "execution_count": 2,
   "id": "23de0d95-f217-44e7-ac38-8618dbe2b118",
   "metadata": {
    "tags": []
   },
   "outputs": [],
   "source": [
    "import os\n",
    "from pathlib import Path\n",
    "import sys\n",
    "\n",
    "import ee\n",
    "\n",
    "\n",
    "# Import debug version of eepackages, otherwise install latest\n",
    "sys.path.append(str(Path.cwd().parent.parent.parent.parent.absolute()) + os.sep + \"ee-packages-py\")\n",
    "\n",
    "from eepackages.applications.waterbody_area import computeSurfaceWaterArea, extrapolate_JRC_wo"
   ]
  },
  {
   "cell_type": "code",
   "execution_count": 3,
   "id": "684599c6-a59b-47d2-b1f8-44c6ba73a744",
   "metadata": {
    "tags": []
   },
   "outputs": [],
   "source": [
    "ee.Initialize()"
   ]
  },
  {
   "cell_type": "markdown",
   "id": "8c3ffde0-bb1e-4f55-95ec-068052d3096e",
   "metadata": {},
   "source": [
    "First we run the full algorithm to see where we have strange data points:"
   ]
  },
  {
   "cell_type": "code",
   "execution_count": 4,
   "id": "93c51a37-a5d9-41d2-959b-e772a17c472b",
   "metadata": {
    "tags": []
   },
   "outputs": [],
   "source": [
    "# fid = 77130  # Taiwan\n",
    "# fid = 83161  # some lake in germany\n",
    "# fid = 89683  # Maggiore\n",
    "# fid = 92107  # Tana\n",
    "fid = 90686 # Salton\n",
    "# fid = 90554  # Mead\n",
    "# fid = 92429  # Volta\n",
    "waterbody = ee.Feature(ee.FeatureCollection(\"projects/global-water-watch/assets/reservoirs/quality_score_reservoirs\").filter(ee.Filter.eq(\"fid\", fid)).first())\n",
    "export_time_start_filter = \"2021-01-01\"\n",
    "export_time_start = \"2022-01-01\"\n",
    "export_time_stop = \"2023-04-01\"\n",
    "water_occurrence = (\n",
    "    ee.Image(\"JRC/GSW1_3/GlobalSurfaceWater\")\n",
    "    .select(\"occurrence\")\n",
    "    .unmask(0)\n",
    "    .resample(\"bicubic\")\n",
    "    .divide(100)\n",
    ")"
   ]
  },
  {
   "cell_type": "code",
   "execution_count": 5,
   "id": "288b12e9-de7e-4d2d-a69f-0d0d62c78648",
   "metadata": {
    "tags": []
   },
   "outputs": [],
   "source": [
    "scale = ee.Feature(waterbody).geometry().area().sqrt().divide(200).max(10).getInfo()\n",
    "\n",
    "# Extrapolate water Occurrence\n",
    "water_occurrence = extrapolate_JRC_wo(waterbody, scale, 0.97)\n",
    "\n",
    "missions = [\"L4\", \"L5\", \"L7\", \"L8\", \"L9\", \"S2\"]\n",
    "\n",
    "water_area = computeSurfaceWaterArea(\n",
    "    waterbody=ee.Feature(waterbody),\n",
    "    start_filter=export_time_start_filter,\n",
    "    start=export_time_start,\n",
    "    stop=export_time_stop,\n",
    "    scale=scale,\n",
    "    mosaic_by_day=True,\n",
    "    waterOccurrence=ee.Image(water_occurrence),\n",
    "    opt_missions=missions,\n",
    "    quality_score_attributes=[\"qTh_0\"],  # [\"qTh_15\", \"qTh_10\", \"qTh_5\", \"qTh_0\"],\n",
    "    min_overlap_fraction=0.4\n",
    ")\n",
    "\n",
    "water_area = (\n",
    "    ee.FeatureCollection(water_area)\n",
    "    .filter(\n",
    "        ee.Filter.And(\n",
    "            ee.Filter.neq(\"p\", 101),\n",
    "            ee.Filter.gt(\"ndwi_threshold\", -0.15),\n",
    "            ee.Filter.lt(\"ndwi_threshold\", 0.5),\n",
    "            ee.Filter.lt(\"filled_fraction\", 0.6),\n",
    "        )\n",
    "    )\n",
    "    .sort(\"system:time_start\")\n",
    ")\n",
    "\n",
    "properties = [\n",
    "    \"MISSION\",\n",
    "    \"ndwi_threshold\",\n",
    "    \"quality_score\",\n",
    "    \"area_filled\",\n",
    "    \"filled_fraction\",\n",
    "    \"p\",\n",
    "    \"system:time_start\",\n",
    "    \"area\",\n",
    "]\n",
    "properties_new = [\n",
    "    \"mission\",\n",
    "    \"ndwi_threshold\",\n",
    "    \"quality_score\",\n",
    "    \"water_area_filled\",\n",
    "    \"water_area_filled_fraction\",\n",
    "    \"water_area_p\",\n",
    "    \"water_area_time\",\n",
    "    \"water_area_value\",\n",
    "]\n",
    "\n",
    "water_area = (\n",
    "    ee.FeatureCollection(water_area)\n",
    "    .select(properties, properties_new, False)\n",
    "    .set(\"scale\", scale)\n",
    ")"
   ]
  },
  {
   "cell_type": "code",
   "execution_count": 6,
   "id": "ad1e4993-a365-4b18-97f4-7131948ef7f0",
   "metadata": {
    "tags": []
   },
   "outputs": [
    {
     "data": {
      "text/plain": [
       "159.3099122465834"
      ]
     },
     "execution_count": 6,
     "metadata": {},
     "output_type": "execute_result"
    }
   ],
   "source": [
    "scale"
   ]
  },
  {
   "cell_type": "code",
   "execution_count": 7,
   "id": "68fee01b-aa47-4d31-9275-96fb64fb1b1e",
   "metadata": {
    "tags": []
   },
   "outputs": [],
   "source": [
    "water_area = water_area.getInfo()"
   ]
  },
  {
   "cell_type": "code",
   "execution_count": 8,
   "id": "238d1de1-b14f-4cc1-9539-0fc743e8de36",
   "metadata": {
    "tags": []
   },
   "outputs": [],
   "source": [
    "import pandas as pd\n",
    "df: pd.DataFrame = pd.DataFrame(\n",
    "    list(map(lambda feature: feature[\"properties\"], water_area[\"features\"]))\n",
    ")"
   ]
  },
  {
   "cell_type": "code",
   "execution_count": 9,
   "id": "e04942a3-7a84-4168-8430-517d02cc029e",
   "metadata": {
    "tags": []
   },
   "outputs": [],
   "source": [
    "df[\"water_area_time\"] = pd.to_datetime(df[\"water_area_time\"], unit=\"ms\", utc=True)"
   ]
  },
  {
   "cell_type": "code",
   "execution_count": 10,
   "id": "b81f9eea-1cdc-4c87-9256-e699cc06bdd8",
   "metadata": {
    "tags": []
   },
   "outputs": [
    {
     "data": {
      "text/html": [
       "<div>\n",
       "<style scoped>\n",
       "    .dataframe tbody tr th:only-of-type {\n",
       "        vertical-align: middle;\n",
       "    }\n",
       "\n",
       "    .dataframe tbody tr th {\n",
       "        vertical-align: top;\n",
       "    }\n",
       "\n",
       "    .dataframe thead th {\n",
       "        text-align: right;\n",
       "    }\n",
       "</style>\n",
       "<table border=\"1\" class=\"dataframe\">\n",
       "  <thead>\n",
       "    <tr style=\"text-align: right;\">\n",
       "      <th></th>\n",
       "      <th>mission</th>\n",
       "      <th>ndwi_threshold</th>\n",
       "      <th>quality_score</th>\n",
       "      <th>water_area_filled</th>\n",
       "      <th>water_area_filled_fraction</th>\n",
       "      <th>water_area_p</th>\n",
       "      <th>water_area_time</th>\n",
       "      <th>water_area_value</th>\n",
       "    </tr>\n",
       "  </thead>\n",
       "  <tbody>\n",
       "    <tr>\n",
       "      <th>0</th>\n",
       "      <td>S2</td>\n",
       "      <td>0.320997</td>\n",
       "      <td>0.087600</td>\n",
       "      <td>8.363519e+08</td>\n",
       "      <td>0.003315</td>\n",
       "      <td>0.970230</td>\n",
       "      <td>2022-01-05 00:00:00+00:00</td>\n",
       "      <td>8.335790e+08</td>\n",
       "    </tr>\n",
       "    <tr>\n",
       "      <th>1</th>\n",
       "      <td>L9</td>\n",
       "      <td>0.256685</td>\n",
       "      <td>0.094660</td>\n",
       "      <td>8.380376e+08</td>\n",
       "      <td>0.003762</td>\n",
       "      <td>0.970244</td>\n",
       "      <td>2022-01-08 00:00:00+00:00</td>\n",
       "      <td>8.348850e+08</td>\n",
       "    </tr>\n",
       "    <tr>\n",
       "      <th>2</th>\n",
       "      <td>S2</td>\n",
       "      <td>0.305335</td>\n",
       "      <td>0.076450</td>\n",
       "      <td>8.440675e+08</td>\n",
       "      <td>0.012458</td>\n",
       "      <td>0.960000</td>\n",
       "      <td>2022-01-20 00:00:00+00:00</td>\n",
       "      <td>8.335524e+08</td>\n",
       "    </tr>\n",
       "    <tr>\n",
       "      <th>3</th>\n",
       "      <td>S2</td>\n",
       "      <td>0.306042</td>\n",
       "      <td>0.077450</td>\n",
       "      <td>8.442477e+08</td>\n",
       "      <td>0.012105</td>\n",
       "      <td>0.960000</td>\n",
       "      <td>2022-01-30 00:00:00+00:00</td>\n",
       "      <td>8.340284e+08</td>\n",
       "    </tr>\n",
       "    <tr>\n",
       "      <th>4</th>\n",
       "      <td>S2</td>\n",
       "      <td>0.257238</td>\n",
       "      <td>0.086400</td>\n",
       "      <td>8.384963e+08</td>\n",
       "      <td>0.002245</td>\n",
       "      <td>0.970196</td>\n",
       "      <td>2022-02-04 00:00:00+00:00</td>\n",
       "      <td>8.366142e+08</td>\n",
       "    </tr>\n",
       "    <tr>\n",
       "      <th>...</th>\n",
       "      <td>...</td>\n",
       "      <td>...</td>\n",
       "      <td>...</td>\n",
       "      <td>...</td>\n",
       "      <td>...</td>\n",
       "      <td>...</td>\n",
       "      <td>...</td>\n",
       "      <td>...</td>\n",
       "    </tr>\n",
       "    <tr>\n",
       "      <th>74</th>\n",
       "      <td>S2</td>\n",
       "      <td>0.226831</td>\n",
       "      <td>0.118467</td>\n",
       "      <td>8.191553e+08</td>\n",
       "      <td>0.488479</td>\n",
       "      <td>0.970525</td>\n",
       "      <td>2023-02-14 00:00:00+00:00</td>\n",
       "      <td>4.190147e+08</td>\n",
       "    </tr>\n",
       "    <tr>\n",
       "      <th>75</th>\n",
       "      <td>S2</td>\n",
       "      <td>0.288572</td>\n",
       "      <td>0.097600</td>\n",
       "      <td>8.290427e+08</td>\n",
       "      <td>0.003321</td>\n",
       "      <td>0.970341</td>\n",
       "      <td>2023-02-19 00:00:00+00:00</td>\n",
       "      <td>8.262895e+08</td>\n",
       "    </tr>\n",
       "    <tr>\n",
       "      <th>76</th>\n",
       "      <td>S2</td>\n",
       "      <td>0.306401</td>\n",
       "      <td>0.089600</td>\n",
       "      <td>8.308038e+08</td>\n",
       "      <td>0.488699</td>\n",
       "      <td>0.970245</td>\n",
       "      <td>2023-02-24 00:00:00+00:00</td>\n",
       "      <td>4.247909e+08</td>\n",
       "    </tr>\n",
       "    <tr>\n",
       "      <th>77</th>\n",
       "      <td>S2</td>\n",
       "      <td>0.273809</td>\n",
       "      <td>0.087600</td>\n",
       "      <td>8.290251e+08</td>\n",
       "      <td>0.001737</td>\n",
       "      <td>0.970304</td>\n",
       "      <td>2023-03-26 00:00:00+00:00</td>\n",
       "      <td>8.275854e+08</td>\n",
       "    </tr>\n",
       "    <tr>\n",
       "      <th>78</th>\n",
       "      <td>S2</td>\n",
       "      <td>0.178518</td>\n",
       "      <td>0.115980</td>\n",
       "      <td>8.211297e+08</td>\n",
       "      <td>0.506491</td>\n",
       "      <td>0.970500</td>\n",
       "      <td>2023-03-31 00:00:00+00:00</td>\n",
       "      <td>4.052351e+08</td>\n",
       "    </tr>\n",
       "  </tbody>\n",
       "</table>\n",
       "<p>79 rows × 8 columns</p>\n",
       "</div>"
      ],
      "text/plain": [
       "   mission  ndwi_threshold  quality_score  water_area_filled  \\\n",
       "0       S2        0.320997       0.087600       8.363519e+08   \n",
       "1       L9        0.256685       0.094660       8.380376e+08   \n",
       "2       S2        0.305335       0.076450       8.440675e+08   \n",
       "3       S2        0.306042       0.077450       8.442477e+08   \n",
       "4       S2        0.257238       0.086400       8.384963e+08   \n",
       "..     ...             ...            ...                ...   \n",
       "74      S2        0.226831       0.118467       8.191553e+08   \n",
       "75      S2        0.288572       0.097600       8.290427e+08   \n",
       "76      S2        0.306401       0.089600       8.308038e+08   \n",
       "77      S2        0.273809       0.087600       8.290251e+08   \n",
       "78      S2        0.178518       0.115980       8.211297e+08   \n",
       "\n",
       "    water_area_filled_fraction  water_area_p           water_area_time  \\\n",
       "0                     0.003315      0.970230 2022-01-05 00:00:00+00:00   \n",
       "1                     0.003762      0.970244 2022-01-08 00:00:00+00:00   \n",
       "2                     0.012458      0.960000 2022-01-20 00:00:00+00:00   \n",
       "3                     0.012105      0.960000 2022-01-30 00:00:00+00:00   \n",
       "4                     0.002245      0.970196 2022-02-04 00:00:00+00:00   \n",
       "..                         ...           ...                       ...   \n",
       "74                    0.488479      0.970525 2023-02-14 00:00:00+00:00   \n",
       "75                    0.003321      0.970341 2023-02-19 00:00:00+00:00   \n",
       "76                    0.488699      0.970245 2023-02-24 00:00:00+00:00   \n",
       "77                    0.001737      0.970304 2023-03-26 00:00:00+00:00   \n",
       "78                    0.506491      0.970500 2023-03-31 00:00:00+00:00   \n",
       "\n",
       "    water_area_value  \n",
       "0       8.335790e+08  \n",
       "1       8.348850e+08  \n",
       "2       8.335524e+08  \n",
       "3       8.340284e+08  \n",
       "4       8.366142e+08  \n",
       "..               ...  \n",
       "74      4.190147e+08  \n",
       "75      8.262895e+08  \n",
       "76      4.247909e+08  \n",
       "77      8.275854e+08  \n",
       "78      4.052351e+08  \n",
       "\n",
       "[79 rows x 8 columns]"
      ]
     },
     "execution_count": 10,
     "metadata": {},
     "output_type": "execute_result"
    }
   ],
   "source": [
    "df"
   ]
  },
  {
   "cell_type": "code",
   "execution_count": 14,
   "id": "56089856-7a05-4721-82ba-718eb1b03805",
   "metadata": {
    "tags": []
   },
   "outputs": [
    {
     "data": {
      "text/plain": [
       "<Axes: xlabel='water_area_time'>"
      ]
     },
     "execution_count": 14,
     "metadata": {},
     "output_type": "execute_result"
    },
    {
     "data": {
      "image/png": "[encoded data removed]",
      "text/plain": [
       "<Figure size 640x480 with 1 Axes>"
      ]
     },
     "metadata": {},
     "output_type": "display_data"
    }
   ],
   "source": [
    "df.plot(\"water_area_time\", \"water_area_filled\")"
   ]
  },
  {
   "cell_type": "markdown",
   "id": "6cdf09f6-fb86-41a0-ae9d-94d828be336e",
   "metadata": {},
   "source": [
    "## Get Images\n",
    "Obtain raw images"
   ]
  },
  {
   "cell_type": "code",
   "execution_count": 15,
   "id": "9902f4a8-02cf-469d-a6fa-47af7634a7df",
   "metadata": {
    "tags": []
   },
   "outputs": [],
   "source": [
    "from datetime import datetime\n",
    "\n",
    "from eepackages.assets import getImages, getMostlyCleanImages, mosaic_by_day\n",
    "from eepackages.utils import computeThresholdUsingOtsu\n",
    "import geemap"
   ]
  },
  {
   "cell_type": "code",
   "execution_count": 16,
   "id": "72421440-eaae-4a5f-8043-eb9259148a40",
   "metadata": {
    "tags": []
   },
   "outputs": [],
   "source": [
    "images = getImages(waterbody.geometry(), {\n",
    "    'resample': True,\n",
    "    'filter': ee.Filter.date(export_time_start, export_time_stop),\n",
    "    'missions': missions,\n",
    "    'scale': scale * 10,\n",
    "}).sort(\"system:time_start\")"
   ]
  },
  {
   "cell_type": "code",
   "execution_count": 17,
   "id": "40eee291-a648-40d0-b92b-a9a12d4736c3",
   "metadata": {
    "tags": []
   },
   "outputs": [
    {
     "data": {
      "text/html": [
       "<div><style>:root {\n",
       "  --font-color-primary: var(--jp-content-font-color0, rgba(0, 0, 0, 1));\n",
       "  --font-color-secondary: var(--jp-content-font-color2, rgba(0, 0, 0, 0.6));\n",
       "  --font-color-accent: rgba(123, 31, 162, 1);\n",
       "  --border-color: var(--jp-border-color2, #e0e0e0);\n",
       "  --background-color: var(--jp-layout-color0, white);\n",
       "  --background-color-row-even: var(--jp-layout-color1, white);\n",
       "  --background-color-row-odd: var(--jp-layout-color2, #eeeeee);\n",
       "}\n",
       "\n",
       "html[theme=\"dark\"],\n",
       "body[data-theme=\"dark\"],\n",
       "body.vscode-dark {\n",
       "  --font-color-primary: rgba(255, 255, 255, 1);\n",
       "  --font-color-secondary: rgba(255, 255, 255, 0.6);\n",
       "  --font-color-accent: rgb(173, 132, 190);\n",
       "  --border-color: #2e2e2e;\n",
       "  --background-color: #111111;\n",
       "  --background-color-row-even: #111111;\n",
       "  --background-color-row-odd: #313131;\n",
       "}\n",
       "\n",
       ".ee {\n",
       "  padding: 1em;\n",
       "  line-height: 1.5em;\n",
       "  min-width: 300px;\n",
       "  max-width: 1200px;\n",
       "  overflow-y: scroll;\n",
       "  max-height: 600px;\n",
       "  border: 1px solid var(--border-color);\n",
       "  font-family: monospace;\n",
       "}\n",
       "\n",
       ".ee li {\n",
       "  list-style-type: none;\n",
       "}\n",
       "\n",
       ".ee ul {\n",
       "  padding-left: 1.5em !important;\n",
       "  margin: 0;\n",
       "}\n",
       "\n",
       ".ee > ul {\n",
       "  padding-left: 0 !important;\n",
       "}\n",
       "\n",
       ".ee-open,\n",
       ".ee-shut {\n",
       "  color: var(--font-color-secondary);\n",
       "  cursor: pointer;\n",
       "  margin: 0;\n",
       "}\n",
       "\n",
       ".ee-open:hover,\n",
       ".ee-shut:hover {\n",
       "  color: var(--font-color-primary);\n",
       "}\n",
       "\n",
       ".ee-k {\n",
       "  color: var(--font-color-accent);\n",
       "  margin-right: 6px;\n",
       "}\n",
       "\n",
       ".ee-v {\n",
       "  color: var(--font-color-primary);\n",
       "}\n",
       "\n",
       ".ee-toggle {\n",
       "  display: none;\n",
       "}\n",
       "\n",
       ".ee-shut + ul {\n",
       "  display: none;\n",
       "}\n",
       "\n",
       ".ee-open + ul {\n",
       "  display: block;\n",
       "}\n",
       "\n",
       ".ee-shut::before {\n",
       "  display: inline-block;\n",
       "  content: \"▼\";\n",
       "  margin-right: 6px;\n",
       "  transform: rotate(-90deg);\n",
       "  transition: transform 0.2s;\n",
       "}\n",
       "\n",
       ".ee-open::before {\n",
       "  transform: rotate(0deg);\n",
       "  display: inline-block;\n",
       "  content: \"▼\";\n",
       "  margin-right: 6px;\n",
       "  transition: transform 0.2s;\n",
       "}\n",
       "</style><div class='ee'><ul><li><span class='ee-v'>418</span></li></ul></div><script>function toggleHeader() {\n",
       "    const parent = this.parentElement;\n",
       "    parent.className = parent.className === \"ee-open\" ? \"ee-shut\" : \"ee-open\";\n",
       "}\n",
       "\n",
       "for (let c of document.getElementsByClassName(\"ee-toggle\")) {\n",
       "    c.onclick = toggleHeader;\n",
       "}</script></div>"
      ],
      "text/plain": [
       "<ee.ee_number.Number at 0x7f451f1e62b0>"
      ]
     },
     "execution_count": 17,
     "metadata": {},
     "output_type": "execute_result"
    }
   ],
   "source": [
    "images.size()"
   ]
  },
  {
   "cell_type": "markdown",
   "id": "e76b82ac-b9ee-4a5d-a78d-c4e4aeba4f29",
   "metadata": {},
   "source": [
    "### Get Mostly Clean Images\n",
    "Get mostly clean images based on quality score of green pixel"
   ]
  },
  {
   "cell_type": "code",
   "execution_count": 18,
   "id": "d150a8c1-6889-47e7-81b1-47bba3aecf88",
   "metadata": {
    "tags": []
   },
   "outputs": [],
   "source": [
    "quality_score_attributes = [\"qTh_0\"] #  [\"qTh_15\", \"qTh_10\", \"qTh_5\", \"qTh_0\"]\n",
    "props = waterbody.getInfo()[\"properties\"]\n",
    "quality_score_threshold = None\n",
    "if quality_score_attributes:\n",
    "    for prop in quality_score_attributes:\n",
    "        att = props.get(prop)\n",
    "        if att:\n",
    "            quality_score_threshold = att\n",
    "            break\n",
    "\n",
    "options = {\n",
    "  # 'cloudFrequencyThresholdDelta': -0.15\n",
    "   'scale': scale * 5,\n",
    "   'cloud_frequency': props.get('cloud_frequency'),\n",
    "   'quality_score_cloud_threshold': quality_score_threshold,\n",
    "}\n",
    "\n",
    "g = waterbody.geometry().buffer(300, scale)\n",
    "\n",
    "images = getMostlyCleanImages(images, g, options).sort('system:time_start')"
   ]
  },
  {
   "cell_type": "code",
   "execution_count": 19,
   "id": "4399bb4f-fbda-4c45-a1ce-08770f550f06",
   "metadata": {
    "tags": []
   },
   "outputs": [
    {
     "data": {
      "text/html": [
       "<div><style>:root {\n",
       "  --font-color-primary: var(--jp-content-font-color0, rgba(0, 0, 0, 1));\n",
       "  --font-color-secondary: var(--jp-content-font-color2, rgba(0, 0, 0, 0.6));\n",
       "  --font-color-accent: rgba(123, 31, 162, 1);\n",
       "  --border-color: var(--jp-border-color2, #e0e0e0);\n",
       "  --background-color: var(--jp-layout-color0, white);\n",
       "  --background-color-row-even: var(--jp-layout-color1, white);\n",
       "  --background-color-row-odd: var(--jp-layout-color2, #eeeeee);\n",
       "}\n",
       "\n",
       "html[theme=\"dark\"],\n",
       "body[data-theme=\"dark\"],\n",
       "body.vscode-dark {\n",
       "  --font-color-primary: rgba(255, 255, 255, 1);\n",
       "  --font-color-secondary: rgba(255, 255, 255, 0.6);\n",
       "  --font-color-accent: rgb(173, 132, 190);\n",
       "  --border-color: #2e2e2e;\n",
       "  --background-color: #111111;\n",
       "  --background-color-row-even: #111111;\n",
       "  --background-color-row-odd: #313131;\n",
       "}\n",
       "\n",
       ".ee {\n",
       "  padding: 1em;\n",
       "  line-height: 1.5em;\n",
       "  min-width: 300px;\n",
       "  max-width: 1200px;\n",
       "  overflow-y: scroll;\n",
       "  max-height: 600px;\n",
       "  border: 1px solid var(--border-color);\n",
       "  font-family: monospace;\n",
       "}\n",
       "\n",
       ".ee li {\n",
       "  list-style-type: none;\n",
       "}\n",
       "\n",
       ".ee ul {\n",
       "  padding-left: 1.5em !important;\n",
       "  margin: 0;\n",
       "}\n",
       "\n",
       ".ee > ul {\n",
       "  padding-left: 0 !important;\n",
       "}\n",
       "\n",
       ".ee-open,\n",
       ".ee-shut {\n",
       "  color: var(--font-color-secondary);\n",
       "  cursor: pointer;\n",
       "  margin: 0;\n",
       "}\n",
       "\n",
       ".ee-open:hover,\n",
       ".ee-shut:hover {\n",
       "  color: var(--font-color-primary);\n",
       "}\n",
       "\n",
       ".ee-k {\n",
       "  color: var(--font-color-accent);\n",
       "  margin-right: 6px;\n",
       "}\n",
       "\n",
       ".ee-v {\n",
       "  color: var(--font-color-primary);\n",
       "}\n",
       "\n",
       ".ee-toggle {\n",
       "  display: none;\n",
       "}\n",
       "\n",
       ".ee-shut + ul {\n",
       "  display: none;\n",
       "}\n",
       "\n",
       ".ee-open + ul {\n",
       "  display: block;\n",
       "}\n",
       "\n",
       ".ee-shut::before {\n",
       "  display: inline-block;\n",
       "  content: \"▼\";\n",
       "  margin-right: 6px;\n",
       "  transform: rotate(-90deg);\n",
       "  transition: transform 0.2s;\n",
       "}\n",
       "\n",
       ".ee-open::before {\n",
       "  transform: rotate(0deg);\n",
       "  display: inline-block;\n",
       "  content: \"▼\";\n",
       "  margin-right: 6px;\n",
       "  transition: transform 0.2s;\n",
       "}\n",
       "</style><div class='ee'><ul><li><span class='ee-v'>272</span></li></ul></div><script>function toggleHeader() {\n",
       "    const parent = this.parentElement;\n",
       "    parent.className = parent.className === \"ee-open\" ? \"ee-shut\" : \"ee-open\";\n",
       "}\n",
       "\n",
       "for (let c of document.getElementsByClassName(\"ee-toggle\")) {\n",
       "    c.onclick = toggleHeader;\n",
       "}</script></div>"
      ],
      "text/plain": [
       "<ee.ee_number.Number at 0x7f451f3498b0>"
      ]
     },
     "execution_count": 19,
     "metadata": {},
     "output_type": "execute_result"
    }
   ],
   "source": [
    "images.size()"
   ]
  },
  {
   "cell_type": "markdown",
   "id": "b7a5edbf-4cc5-46f3-8428-ffcad346990b",
   "metadata": {},
   "source": [
    "## Merge ImageCollection"
   ]
  },
  {
   "cell_type": "code",
   "execution_count": 20,
   "id": "ad5d7979-55d6-439f-8121-154c27a62514",
   "metadata": {
    "tags": []
   },
   "outputs": [],
   "source": [
    "mosaicked = mosaic_by_day(images)"
   ]
  },
  {
   "cell_type": "code",
   "execution_count": 21,
   "id": "ff1f3dd3-c16e-4742-8249-6302904b61f6",
   "metadata": {
    "tags": []
   },
   "outputs": [
    {
     "data": {
      "text/html": [
       "<div><style>:root {\n",
       "  --font-color-primary: var(--jp-content-font-color0, rgba(0, 0, 0, 1));\n",
       "  --font-color-secondary: var(--jp-content-font-color2, rgba(0, 0, 0, 0.6));\n",
       "  --font-color-accent: rgba(123, 31, 162, 1);\n",
       "  --border-color: var(--jp-border-color2, #e0e0e0);\n",
       "  --background-color: var(--jp-layout-color0, white);\n",
       "  --background-color-row-even: var(--jp-layout-color1, white);\n",
       "  --background-color-row-odd: var(--jp-layout-color2, #eeeeee);\n",
       "}\n",
       "\n",
       "html[theme=\"dark\"],\n",
       "body[data-theme=\"dark\"],\n",
       "body.vscode-dark {\n",
       "  --font-color-primary: rgba(255, 255, 255, 1);\n",
       "  --font-color-secondary: rgba(255, 255, 255, 0.6);\n",
       "  --font-color-accent: rgb(173, 132, 190);\n",
       "  --border-color: #2e2e2e;\n",
       "  --background-color: #111111;\n",
       "  --background-color-row-even: #111111;\n",
       "  --background-color-row-odd: #313131;\n",
       "}\n",
       "\n",
       ".ee {\n",
       "  padding: 1em;\n",
       "  line-height: 1.5em;\n",
       "  min-width: 300px;\n",
       "  max-width: 1200px;\n",
       "  overflow-y: scroll;\n",
       "  max-height: 600px;\n",
       "  border: 1px solid var(--border-color);\n",
       "  font-family: monospace;\n",
       "}\n",
       "\n",
       ".ee li {\n",
       "  list-style-type: none;\n",
       "}\n",
       "\n",
       ".ee ul {\n",
       "  padding-left: 1.5em !important;\n",
       "  margin: 0;\n",
       "}\n",
       "\n",
       ".ee > ul {\n",
       "  padding-left: 0 !important;\n",
       "}\n",
       "\n",
       ".ee-open,\n",
       ".ee-shut {\n",
       "  color: var(--font-color-secondary);\n",
       "  cursor: pointer;\n",
       "  margin: 0;\n",
       "}\n",
       "\n",
       ".ee-open:hover,\n",
       ".ee-shut:hover {\n",
       "  color: var(--font-color-primary);\n",
       "}\n",
       "\n",
       ".ee-k {\n",
       "  color: var(--font-color-accent);\n",
       "  margin-right: 6px;\n",
       "}\n",
       "\n",
       ".ee-v {\n",
       "  color: var(--font-color-primary);\n",
       "}\n",
       "\n",
       ".ee-toggle {\n",
       "  display: none;\n",
       "}\n",
       "\n",
       ".ee-shut + ul {\n",
       "  display: none;\n",
       "}\n",
       "\n",
       ".ee-open + ul {\n",
       "  display: block;\n",
       "}\n",
       "\n",
       ".ee-shut::before {\n",
       "  display: inline-block;\n",
       "  content: \"▼\";\n",
       "  margin-right: 6px;\n",
       "  transform: rotate(-90deg);\n",
       "  transition: transform 0.2s;\n",
       "}\n",
       "\n",
       ".ee-open::before {\n",
       "  transform: rotate(0deg);\n",
       "  display: inline-block;\n",
       "  content: \"▼\";\n",
       "  margin-right: 6px;\n",
       "  transition: transform 0.2s;\n",
       "}\n",
       "</style><div class='ee'><ul><li><span class='ee-v'>85</span></li></ul></div><script>function toggleHeader() {\n",
       "    const parent = this.parentElement;\n",
       "    parent.className = parent.className === \"ee-open\" ? \"ee-shut\" : \"ee-open\";\n",
       "}\n",
       "\n",
       "for (let c of document.getElementsByClassName(\"ee-toggle\")) {\n",
       "    c.onclick = toggleHeader;\n",
       "}</script></div>"
      ],
      "text/plain": [
       "<ee.ee_number.Number at 0x7f4520b81a90>"
      ]
     },
     "execution_count": 21,
     "metadata": {},
     "output_type": "execute_result"
    }
   ],
   "source": [
    "mosaicked.size()"
   ]
  },
  {
   "cell_type": "code",
   "execution_count": 22,
   "id": "e75e17f6-6407-43f2-9fb8-a5080ca78a67",
   "metadata": {
    "tags": []
   },
   "outputs": [],
   "source": [
    "start_date = ee.Date(\"2022-11-01\")\n",
    "check = images.filterDate(start_date, start_date.advance(1, \"day\"))"
   ]
  },
  {
   "cell_type": "code",
   "execution_count": 23,
   "id": "127ac0c4-e30b-46ed-81e1-7a39bcc72387",
   "metadata": {
    "tags": []
   },
   "outputs": [],
   "source": [
    "check_list = check.toList(check.size())"
   ]
  },
  {
   "cell_type": "code",
   "execution_count": 24,
   "id": "f08b59cd-bcf9-4991-835b-716a6fb454da",
   "metadata": {
    "tags": []
   },
   "outputs": [],
   "source": [
    "Map = geemap.Map()\n",
    "for i in range(check.size().getInfo()):\n",
    "    Map.addLayer(ee.Image(check_list.get(i)), {\"bands\": [\"red\", \"green\", \"blue\"], \"min\": 0, \"max\": 0.3}, f\"mosaic_{i}\")\n",
    "Map.centerObject(waterbody)"
   ]
  },
  {
   "cell_type": "code",
   "execution_count": 25,
   "id": "02ca0d72-fcf6-405f-9e11-f5b21a9aae0c",
   "metadata": {
    "tags": []
   },
   "outputs": [
    {
     "data": {
      "application/vnd.jupyter.widget-view+json": {
       "model_id": "a7b0cdc6d5ba495f8d539f247a32236a",
       "version_major": 2,
       "version_minor": 0
      },
      "text/plain": [
       "Map(center=[20, 0], controls=(WidgetControl(options=['position', 'transparent_bg'], widget=HBox(children=(Togg…"
      ]
     },
     "metadata": {},
     "output_type": "display_data"
    }
   ],
   "source": [
    "Map"
   ]
  },
  {
   "cell_type": "code",
   "execution_count": 26,
   "id": "c74527f5-615e-4c18-8cbb-a0c0c79be295",
   "metadata": {
    "tags": []
   },
   "outputs": [],
   "source": [
    "mosaicked_image = ee.Image(mosaicked.filter(ee.Filter.date(\"2022-11-01\")).first())\n",
    "# print(datetime.utcfromtimestamp(mosaicked_image.get(\"system:time_start\").getInfo() / 1000))\n",
    "# print(mosaicked_image.get(\"MISSION\").getInfo())"
   ]
  },
  {
   "cell_type": "code",
   "execution_count": 27,
   "id": "b6d4956e-4aa1-48f9-83d7-086aa9b28e7d",
   "metadata": {
    "tags": []
   },
   "outputs": [
    {
     "data": {
      "text/plain": [
       "0.11651878212340779"
      ]
     },
     "execution_count": 27,
     "metadata": {},
     "output_type": "execute_result"
    }
   ],
   "source": [
    "mosaicked_image.get(\"quality_score\").getInfo()"
   ]
  },
  {
   "cell_type": "code",
   "execution_count": 28,
   "id": "0a6c7e38-a54c-4532-9b9d-219a0b6a2d18",
   "metadata": {
    "tags": []
   },
   "outputs": [],
   "source": [
    "Map = geemap.Map()\n",
    "Map.addLayer(mosaicked_image, {\"bands\": [\"red\", \"green\", \"blue\"], \"min\": 0, \"max\": 0.3}, \"mosaic\")\n",
    "Map.centerObject(waterbody)"
   ]
  },
  {
   "cell_type": "code",
   "execution_count": 29,
   "id": "2ac9e381-96e9-4d7c-9cfb-657e1f38e7d4",
   "metadata": {
    "tags": []
   },
   "outputs": [
    {
     "data": {
      "application/vnd.jupyter.widget-view+json": {
       "model_id": "cefd15e779bb4e74bb0e6c8a29e5422b",
       "version_major": 2,
       "version_minor": 0
      },
      "text/plain": [
       "Map(center=[20, 0], controls=(WidgetControl(options=['position', 'transparent_bg'], widget=HBox(children=(Togg…"
      ]
     },
     "metadata": {},
     "output_type": "display_data"
    }
   ],
   "source": [
    "Map"
   ]
  },
  {
   "cell_type": "markdown",
   "id": "11ae1a19-b489-4d2e-ab01-3f5e3b1489ce",
   "metadata": {},
   "source": [
    "### Check if footprint image is above threshold"
   ]
  },
  {
   "cell_type": "code",
   "execution_count": 30,
   "id": "db1186ee-ed0a-457a-ace0-01dc023e5b35",
   "metadata": {
    "tags": []
   },
   "outputs": [
    {
     "name": "stdout",
     "output_type": "stream",
     "text": [
      "area image over waterbody: 359090458.23663557\n",
      "waterbody_area: 1014742297.2162995\n"
     ]
    }
   ],
   "source": [
    "print(f\"area image over waterbody: {ee.Geometry(mosaicked_image.get('system:footprint')).intersection(waterbody.geometry()).area().getInfo()}\")\n",
    "print(f\"waterbody_area: {waterbody.get('area').getInfo()}\")"
   ]
  },
  {
   "cell_type": "markdown",
   "id": "5687709e-688d-4352-84b5-9484ee4d34c7",
   "metadata": {},
   "source": [
    "Then filter based on iamge footprint ratio"
   ]
  },
  {
   "cell_type": "code",
   "execution_count": 31,
   "id": "34bd89bd-0358-4f3e-b64a-6ec1caffea68",
   "metadata": {
    "tags": []
   },
   "outputs": [],
   "source": [
    "wgeom = waterbody.geometry()\n",
    "def set_intersection(i):\n",
    "    intersection_area = ee.Geometry(i.get('system:footprint')).intersection(wgeom).area()\n",
    "    waterbody_area = waterbody.get('area')\n",
    "    i = i.set(\"overlap_fraction\", intersection_area.divide(waterbody_area))\n",
    "    return i"
   ]
  },
  {
   "cell_type": "code",
   "execution_count": 32,
   "id": "5e39625d-5663-4f5f-92c9-a2dcbbba439c",
   "metadata": {
    "tags": []
   },
   "outputs": [],
   "source": [
    "mosaicked_i = mosaicked.map(set_intersection)\n",
    "mosaicked_f = mosaicked_i.filter(ee.Filter.gt(\"overlap_fraction\", 0.4))"
   ]
  },
  {
   "cell_type": "code",
   "execution_count": 33,
   "id": "211a3684-433c-4aca-9072-32ce818711d0",
   "metadata": {
    "tags": []
   },
   "outputs": [
    {
     "data": {
      "text/html": [
       "<div><style>:root {\n",
       "  --font-color-primary: var(--jp-content-font-color0, rgba(0, 0, 0, 1));\n",
       "  --font-color-secondary: var(--jp-content-font-color2, rgba(0, 0, 0, 0.6));\n",
       "  --font-color-accent: rgba(123, 31, 162, 1);\n",
       "  --border-color: var(--jp-border-color2, #e0e0e0);\n",
       "  --background-color: var(--jp-layout-color0, white);\n",
       "  --background-color-row-even: var(--jp-layout-color1, white);\n",
       "  --background-color-row-odd: var(--jp-layout-color2, #eeeeee);\n",
       "}\n",
       "\n",
       "html[theme=\"dark\"],\n",
       "body[data-theme=\"dark\"],\n",
       "body.vscode-dark {\n",
       "  --font-color-primary: rgba(255, 255, 255, 1);\n",
       "  --font-color-secondary: rgba(255, 255, 255, 0.6);\n",
       "  --font-color-accent: rgb(173, 132, 190);\n",
       "  --border-color: #2e2e2e;\n",
       "  --background-color: #111111;\n",
       "  --background-color-row-even: #111111;\n",
       "  --background-color-row-odd: #313131;\n",
       "}\n",
       "\n",
       ".ee {\n",
       "  padding: 1em;\n",
       "  line-height: 1.5em;\n",
       "  min-width: 300px;\n",
       "  max-width: 1200px;\n",
       "  overflow-y: scroll;\n",
       "  max-height: 600px;\n",
       "  border: 1px solid var(--border-color);\n",
       "  font-family: monospace;\n",
       "}\n",
       "\n",
       ".ee li {\n",
       "  list-style-type: none;\n",
       "}\n",
       "\n",
       ".ee ul {\n",
       "  padding-left: 1.5em !important;\n",
       "  margin: 0;\n",
       "}\n",
       "\n",
       ".ee > ul {\n",
       "  padding-left: 0 !important;\n",
       "}\n",
       "\n",
       ".ee-open,\n",
       ".ee-shut {\n",
       "  color: var(--font-color-secondary);\n",
       "  cursor: pointer;\n",
       "  margin: 0;\n",
       "}\n",
       "\n",
       ".ee-open:hover,\n",
       ".ee-shut:hover {\n",
       "  color: var(--font-color-primary);\n",
       "}\n",
       "\n",
       ".ee-k {\n",
       "  color: var(--font-color-accent);\n",
       "  margin-right: 6px;\n",
       "}\n",
       "\n",
       ".ee-v {\n",
       "  color: var(--font-color-primary);\n",
       "}\n",
       "\n",
       ".ee-toggle {\n",
       "  display: none;\n",
       "}\n",
       "\n",
       ".ee-shut + ul {\n",
       "  display: none;\n",
       "}\n",
       "\n",
       ".ee-open + ul {\n",
       "  display: block;\n",
       "}\n",
       "\n",
       ".ee-shut::before {\n",
       "  display: inline-block;\n",
       "  content: \"▼\";\n",
       "  margin-right: 6px;\n",
       "  transform: rotate(-90deg);\n",
       "  transition: transform 0.2s;\n",
       "}\n",
       "\n",
       ".ee-open::before {\n",
       "  transform: rotate(0deg);\n",
       "  display: inline-block;\n",
       "  content: \"▼\";\n",
       "  margin-right: 6px;\n",
       "  transition: transform 0.2s;\n",
       "}\n",
       "</style><div class='ee'><ul><li><span class='ee-v'>79</span></li></ul></div><script>function toggleHeader() {\n",
       "    const parent = this.parentElement;\n",
       "    parent.className = parent.className === \"ee-open\" ? \"ee-shut\" : \"ee-open\";\n",
       "}\n",
       "\n",
       "for (let c of document.getElementsByClassName(\"ee-toggle\")) {\n",
       "    c.onclick = toggleHeader;\n",
       "}</script></div>"
      ],
      "text/plain": [
       "<ee.ee_number.Number at 0x7f45617bc490>"
      ]
     },
     "execution_count": 33,
     "metadata": {},
     "output_type": "execute_result"
    }
   ],
   "source": [
    "mosaicked_f.size()"
   ]
  },
  {
   "cell_type": "markdown",
   "id": "917cbdde-498b-4fdb-8b41-3f1874b389ff",
   "metadata": {},
   "source": [
    "## Test steps water area algorithm\n",
    "\n",
    "An individual image with an incorrect water area value is taken. Then we plot different steps in the algorithm to debug what is happening at each step."
   ]
  },
  {
   "cell_type": "markdown",
   "id": "3d0b8d40-616d-432b-bcae-5cd61401ce9c",
   "metadata": {},
   "source": [
    "First we can the correct image and call it `i`"
   ]
  },
  {
   "cell_type": "code",
   "execution_count": 34,
   "id": "16be30c4-0bc0-49f0-9278-20b6516a0828",
   "metadata": {
    "tags": []
   },
   "outputs": [],
   "source": [
    "# i = image\n",
    "i = ee.Image(mosaicked_image)"
   ]
  },
  {
   "cell_type": "code",
   "execution_count": 35,
   "id": "6d77b29a-63cc-4484-b2c8-ee3a7ddba8b2",
   "metadata": {
    "tags": []
   },
   "outputs": [
    {
     "data": {
      "text/plain": [
       "datetime.datetime(2022, 11, 1, 0, 0)"
      ]
     },
     "execution_count": 35,
     "metadata": {},
     "output_type": "execute_result"
    }
   ],
   "source": [
    "datetime.utcfromtimestamp(i.get('system:time_start').getInfo() * 1e-3)"
   ]
  },
  {
   "cell_type": "markdown",
   "id": "1315487c-fd64-4946-8d8f-6eaeac587d08",
   "metadata": {},
   "source": [
    "Then we execute the `get_water_area_singleImage` function step by step"
   ]
  },
  {
   "cell_type": "code",
   "execution_count": 36,
   "id": "9519ff3c-c447-437c-9df1-49b7c25ac157",
   "metadata": {
    "tags": []
   },
   "outputs": [],
   "source": [
    "fillPercentile = 50 # // we don't trust our prior\n",
    "ndwiBands = ['green', 'swir']\n",
    "waterMaxImage = ee.Image().float().paint(waterbody.buffer(150), 1)\n",
    "t = i.get('system:time_start')\n",
    "i = (i\n",
    "    .updateMask(waterMaxImage)\n",
    "    .updateMask(i.select('swir').min(i.select('nir')).gt(0.001)))"
   ]
  },
  {
   "cell_type": "code",
   "execution_count": 37,
   "id": "7a0ec896-da68-4833-a08b-edad61a1732c",
   "metadata": {
    "tags": []
   },
   "outputs": [],
   "source": [
    "geom = ee.Feature(waterbody).geometry()\n",
    "ndwi = i.normalizedDifference(ndwiBands)\n",
    "th = computeThresholdUsingOtsu(ndwi, scale, geom, 0.5, 0.7, -0.2)\n",
    "water = ndwi.gt(th)"
   ]
  },
  {
   "cell_type": "markdown",
   "id": "3eb74a69-a761-4ba5-97ba-09838642f512",
   "metadata": {},
   "source": [
    "print threshold value"
   ]
  },
  {
   "cell_type": "code",
   "execution_count": 38,
   "id": "c8261f12-8540-4d5a-9802-82bd937f63f1",
   "metadata": {
    "tags": []
   },
   "outputs": [
    {
     "data": {
      "text/plain": [
       "0.35217690275522817"
      ]
     },
     "execution_count": 38,
     "metadata": {},
     "output_type": "execute_result"
    }
   ],
   "source": [
    "th.getInfo()"
   ]
  },
  {
   "cell_type": "markdown",
   "id": "38729e0e-7082-4d58-8522-a40ba8528980",
   "metadata": {},
   "source": [
    "Function to extrapolate the JRC to from a maximum \"trusted\" water occurrence value to 1.0 to the center of the waterbody"
   ]
  },
  {
   "cell_type": "code",
   "execution_count": 39,
   "id": "03fb3206-56af-4cf5-a124-839cf80e202a",
   "metadata": {
    "tags": []
   },
   "outputs": [],
   "source": [
    "def extrapolate_JRC(waterbody, scale, max_trusted_occurrence=0.97):\n",
    "    water_occurrence = (\n",
    "        ee.Image(\"JRC/GSW1_4/GlobalSurfaceWater\")\n",
    "        .select(\"occurrence\")\n",
    "        .mask(1)  # fixes JRC masking lacking\n",
    "        .resample(\"bicubic\")\n",
    "        .divide(100)\n",
    "    )\n",
    "\n",
    "    # we don't trust water occurrence dataset when water level is below this (values > th)\n",
    "    min_water = water_occurrence.gt(max_trusted_occurrence)\n",
    "\n",
    "    # Calculate distance from water Occurence max\n",
    "    dist = (\n",
    "        min_water.Not()\n",
    "        .fastDistanceTransform(150)\n",
    "        .reproject(ee.Projection(\"EPSG:4326\").atScale(100))\n",
    "        .resample(\"bicubic\")\n",
    "        .sqrt()\n",
    "        .multiply(100)\n",
    "    )\n",
    "\n",
    "    # calculate max distance for scaling to 1\n",
    "    max_distance = dist.reduceRegion(\n",
    "        reducer=ee.Reducer.max(),\n",
    "        geometry=waterbody.geometry(),\n",
    "        scale=scale,\n",
    "        bestEffort=True,\n",
    "    ).get(\"distance\")\n",
    "\n",
    "    # scale distance values from min_trusted_occurrence to 1\n",
    "    extrap_scale = ee.Number(1).subtract(max_trusted_occurrence).divide(max_distance)\n",
    "    water_occurrence_extrapolated = dist.multiply(extrap_scale).add(\n",
    "        max_trusted_occurrence\n",
    "    )\n",
    "\n",
    "    return water_occurrence.where(\n",
    "        water_occurrence.gt(max_trusted_occurrence), water_occurrence_extrapolated\n",
    "    )"
   ]
  },
  {
   "cell_type": "markdown",
   "id": "e9906d3d-66e0-40d1-8676-bb6ebefc5c53",
   "metadata": {},
   "source": [
    "### Set different water occurrence for gap filling\n",
    "Set what should be used as reference water occurrence"
   ]
  },
  {
   "cell_type": "code",
   "execution_count": 40,
   "id": "fb1b7d79-fc2d-4ff8-822a-1cd4ebbacce5",
   "metadata": {
    "tags": []
   },
   "outputs": [],
   "source": [
    "# waterOccurrence = water_occurrence\n",
    "# waterOccurrence = ee.ImageCollection('GOOGLE/DYNAMICWORLD/V1').select('water').mean()\n",
    "waterOccurrence = extrapolate_JRC(waterbody, scale, max_trusted_occurrence=0.97).unmask(0)"
   ]
  },
  {
   "cell_type": "markdown",
   "id": "836a17e7-7e82-459a-a635-996e5d5be495",
   "metadata": {},
   "source": [
    "Then run the rest of the algorithm"
   ]
  },
  {
   "cell_type": "code",
   "execution_count": 41,
   "id": "6ef65a99-4748-48fd-8e6e-ff6b60a36dd7",
   "metadata": {
    "tags": []
   },
   "outputs": [],
   "source": [
    "area = (ee.Image.pixelArea().mask(water)\n",
    ".reduceRegion(**{\n",
    "  'reducer': ee.Reducer.sum(),\n",
    "  'geometry': geom,\n",
    "  'scale': scale\n",
    "}).get('area'))\n",
    "\n",
    "waterEdge = ee.Algorithms.CannyEdgeDetector(ndwi, 0.5, 0.7)\n",
    "imageMask = ndwi.mask()\n",
    "\n",
    "imageMask = imageMask.focal_min(ee.Number(scale).multiply(1.5), 'square', 'meters')\n",
    "waterEdge = waterEdge.updateMask(imageMask)\n",
    "\n",
    "p = waterOccurrence.mask(waterEdge).reduceRegion(**{\n",
    "'reducer': ee.Reducer.percentile([fillPercentile]),\n",
    "'geometry': geom,\n",
    "'scale': scale\n",
    "}).values().get(0)"
   ]
  },
  {
   "cell_type": "code",
   "execution_count": 42,
   "id": "e23c48ff-9dea-45b4-97ae-a589e9f73884",
   "metadata": {
    "tags": []
   },
   "outputs": [
    {
     "name": "stdout",
     "output_type": "stream",
     "text": [
      "0.9804109491846686\n"
     ]
    }
   ],
   "source": [
    "print(p.getInfo())"
   ]
  },
  {
   "cell_type": "markdown",
   "id": "8f47447c-fadb-4854-8bb3-31a42127237a",
   "metadata": {},
   "source": [
    "Check out if the 95th percentile value is the same as p, often an indication that we are using JRC's \"maximum\" p"
   ]
  },
  {
   "cell_type": "code",
   "execution_count": 43,
   "id": "bc76279a-4313-49dd-8aa1-20055442574c",
   "metadata": {
    "tags": []
   },
   "outputs": [],
   "source": [
    "p95 = waterOccurrence.mask(waterEdge).reduceRegion(**{\n",
    "'reducer': ee.Reducer.percentile([95]),\n",
    "'geometry': geom,\n",
    "'scale': scale\n",
    "}).values().get(0)"
   ]
  },
  {
   "cell_type": "code",
   "execution_count": 44,
   "id": "85d97afa-b64e-4419-9954-7c593ada3df0",
   "metadata": {
    "tags": []
   },
   "outputs": [
    {
     "name": "stdout",
     "output_type": "stream",
     "text": [
      "0.987074906784808\n"
     ]
    }
   ],
   "source": [
    "print(p95.getInfo())"
   ]
  },
  {
   "cell_type": "markdown",
   "id": "fce35afc-7b35-4a46-a717-435c4704bb88",
   "metadata": {},
   "source": [
    "The JRC has a maximum p value often higher than 1.0, probably due to resampling?"
   ]
  },
  {
   "cell_type": "code",
   "execution_count": 45,
   "id": "f7f4d6ee-7da5-48bd-9b73-19d8195de597",
   "metadata": {
    "tags": []
   },
   "outputs": [],
   "source": [
    "pMax = waterOccurrence.mask(waterEdge).reduceRegion(**{\n",
    "'reducer': ee.Reducer.max(),\n",
    "'geometry': geom,\n",
    "'scale': scale\n",
    "}).values().get(0)"
   ]
  },
  {
   "cell_type": "code",
   "execution_count": 46,
   "id": "6f6a77c6-1c29-414e-a679-f2ea9f76af39",
   "metadata": {
    "tags": []
   },
   "outputs": [
    {
     "name": "stdout",
     "output_type": "stream",
     "text": [
      "0.9904483196432943\n"
     ]
    }
   ],
   "source": [
    "print(pMax.getInfo())"
   ]
  },
  {
   "cell_type": "code",
   "execution_count": 47,
   "id": "9f000cbe-c752-4c7b-87d0-3dd9e75e7689",
   "metadata": {
    "tags": []
   },
   "outputs": [],
   "source": [
    "p = ee.Algorithms.If(ee.Algorithms.IsEqual(p, None), 101, p)\n",
    "\n",
    "waterFill = waterOccurrence.gte(ee.Image.constant(p)).updateMask(  # TODO\n",
    "    water.unmask(0, False).Not()\n",
    ")\n",
    "nonWater = ndwi.lt(-0.15).unmask(0, False)\n",
    "waterFill = waterFill.updateMask(nonWater.Not())"
   ]
  },
  {
   "cell_type": "markdown",
   "id": "e4e21562-7540-435c-85af-27ae499a649d",
   "metadata": {},
   "source": [
    "## Plot Debug Layers\n",
    "\n",
    "To investigate each step of the algorithm, lots of debugging layers are printed together with the water area observed and the water area filled"
   ]
  },
  {
   "cell_type": "code",
   "execution_count": 48,
   "id": "807d7f6d-4255-441c-b442-04af1480f886",
   "metadata": {
    "tags": []
   },
   "outputs": [
    {
     "data": {
      "application/vnd.jupyter.widget-view+json": {
       "model_id": "f4c6bae9608441989a635b71045f6a86",
       "version_major": 2,
       "version_minor": 0
      },
      "text/plain": [
       "Map(center=[20, 0], controls=(WidgetControl(options=['position', 'transparent_bg'], widget=HBox(children=(Togg…"
      ]
     },
     "metadata": {},
     "output_type": "display_data"
    }
   ],
   "source": [
    "Map = geemap.Map()\n",
    "Map.addLayer(i, {\"bands\": [\"red\", \"green\", \"blue\"]}, \"raw\")\n",
    "Map.addLayer(waterFill, {}, \"waterFill\")\n",
    "Map.addLayer(waterOccurrence, {}, \"water occurrence used for water fill\")\n",
    "Map.addLayer(water, {}, \"water detected\")\n",
    "Map.addLayer(nonWater, {}, \"very low NDWI levels\")\n",
    "Map.addLayer(waterEdge, {\"palette\": [\"red\", \"blue\"]}, \"edge detected\")\n",
    "Map.centerObject(waterbody)\n",
    "Map"
   ]
  },
  {
   "cell_type": "code",
   "execution_count": 49,
   "id": "93458cf2-aec2-41e6-9dbb-a6b126a37f13",
   "metadata": {
    "tags": []
   },
   "outputs": [],
   "source": [
    "fill = (\n",
    "        ee.Image.pixelArea()\n",
    "        .mask(waterFill)\n",
    "        .reduceRegion(**{\"reducer\": ee.Reducer.sum(), \"geometry\": geom, \"scale\": scale})\n",
    "        .get(\"area\")\n",
    "    )"
   ]
  },
  {
   "cell_type": "code",
   "execution_count": 50,
   "id": "9954a2a1-0760-4bf5-b683-a8e82f46eecf",
   "metadata": {
    "tags": []
   },
   "outputs": [
    {
     "name": "stdout",
     "output_type": "stream",
     "text": [
      "fill is 281.6291777734375 km2\n",
      "area is 212.33225303830423 km2\n"
     ]
    }
   ],
   "source": [
    "print(f\"fill is {fill.getInfo() / 1e6} km2\")\n",
    "print(f\"area is {area.getInfo() / 1e6} km2\")"
   ]
  },
  {
   "cell_type": "code",
   "execution_count": null,
   "id": "30e7411a-8b75-4404-8cc4-ea5678a20fed",
   "metadata": {},
   "outputs": [],
   "source": []
  }
 ],
 "metadata": {
  "kernelspec": {
   "display_name": "Python 3 (ipykernel)",
   "language": "python",
   "name": "python3"
  },
  "language_info": {
   "codemirror_mode": {
    "name": "ipython",
    "version": 3
   },
   "file_extension": ".py",
   "mimetype": "text/x-python",
   "name": "python",
   "nbconvert_exporter": "python",
   "pygments_lexer": "ipython3",
   "version": "3.9.15"
  }
 },
 "nbformat": 4,
 "nbformat_minor": 5
}
