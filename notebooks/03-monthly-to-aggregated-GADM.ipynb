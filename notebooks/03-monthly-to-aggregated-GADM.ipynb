{
 "cells": [
  {
   "cell_type": "code",
   "execution_count": 1,
   "source": [
    "%matplotlib inline\r\n",
    "import pathlib\r\n",
    "from glob import glob\r\n",
    "import pandas as pd\r\n",
    "import geopandas as gpd\r\n",
    "import matplotlib.pyplot as plt\r\n",
    "from tqdm.notebook import tqdm"
   ],
   "outputs": [],
   "metadata": {}
  },
  {
   "cell_type": "code",
   "execution_count": 2,
   "source": [
    "def read_time_series(path):\r\n",
    "    df = pd.read_csv(path)\r\n",
    "    df.index = df.time\r\n",
    "    df = df[['area']]\r\n",
    "    \r\n",
    "    return df"
   ],
   "outputs": [],
   "metadata": {}
  },
  {
   "cell_type": "code",
   "execution_count": 3,
   "source": [
    "out_dir_monthly_timeseries_by_gadm2 = pathlib.Path('../data/wps-reservoir-time-series-latest/time_series_area_by_gadm2/')\r\n",
    "out_dir_monthly_timeseries_by_gadm2.mkdir(exist_ok=True)"
   ],
   "outputs": [],
   "metadata": {}
  },
  {
   "cell_type": "code",
   "execution_count": 4,
   "source": [
    "dir_monthly_timeseries = '../data/wps-reservoir-time-series-latest/time_series_area_monthly/'"
   ],
   "outputs": [],
   "metadata": {}
  },
  {
   "cell_type": "code",
   "execution_count": 5,
   "source": [
    "reservoirs_and_gadm2 = gpd.read_file(r'../data/shp/reservoirs-v1.0-and-gadm2.shp')"
   ],
   "outputs": [],
   "metadata": {}
  },
  {
   "cell_type": "code",
   "execution_count": 6,
   "source": [
    "reservoirs_and_gadm2.fid = reservoirs_and_gadm2.fid.astype(int)"
   ],
   "outputs": [],
   "metadata": {}
  },
  {
   "cell_type": "code",
   "execution_count": 7,
   "source": [
    "reservoirs_and_gadm2[['fid', 'GID_2']]"
   ],
   "outputs": [
    {
     "output_type": "execute_result",
     "data": {
      "text/html": [
       "<div>\n",
       "<style scoped>\n",
       "    .dataframe tbody tr th:only-of-type {\n",
       "        vertical-align: middle;\n",
       "    }\n",
       "\n",
       "    .dataframe tbody tr th {\n",
       "        vertical-align: top;\n",
       "    }\n",
       "\n",
       "    .dataframe thead th {\n",
       "        text-align: right;\n",
       "    }\n",
       "</style>\n",
       "<table border=\"1\" class=\"dataframe\">\n",
       "  <thead>\n",
       "    <tr style=\"text-align: right;\">\n",
       "      <th></th>\n",
       "      <th>fid</th>\n",
       "      <th>GID_2</th>\n",
       "    </tr>\n",
       "  </thead>\n",
       "  <tbody>\n",
       "    <tr>\n",
       "      <th>0</th>\n",
       "      <td>87986</td>\n",
       "      <td>AFG.11.4_1</td>\n",
       "    </tr>\n",
       "    <tr>\n",
       "      <th>1</th>\n",
       "      <td>80316</td>\n",
       "      <td>AFG.12.2_1</td>\n",
       "    </tr>\n",
       "    <tr>\n",
       "      <th>2</th>\n",
       "      <td>2192</td>\n",
       "      <td>AFG.12.4_1</td>\n",
       "    </tr>\n",
       "    <tr>\n",
       "      <th>3</th>\n",
       "      <td>65733</td>\n",
       "      <td>AFG.14.11_1</td>\n",
       "    </tr>\n",
       "    <tr>\n",
       "      <th>4</th>\n",
       "      <td>85529</td>\n",
       "      <td>AFG.14.14_1</td>\n",
       "    </tr>\n",
       "    <tr>\n",
       "      <th>...</th>\n",
       "      <td>...</td>\n",
       "      <td>...</td>\n",
       "    </tr>\n",
       "    <tr>\n",
       "      <th>79534</th>\n",
       "      <td>76411</td>\n",
       "      <td>ZWE.9.7_1</td>\n",
       "    </tr>\n",
       "    <tr>\n",
       "      <th>79535</th>\n",
       "      <td>78441</td>\n",
       "      <td>ZWE.9.7_1</td>\n",
       "    </tr>\n",
       "    <tr>\n",
       "      <th>79536</th>\n",
       "      <td>60506</td>\n",
       "      <td>None</td>\n",
       "    </tr>\n",
       "    <tr>\n",
       "      <th>79537</th>\n",
       "      <td>77440</td>\n",
       "      <td>None</td>\n",
       "    </tr>\n",
       "    <tr>\n",
       "      <th>79538</th>\n",
       "      <td>77945</td>\n",
       "      <td>None</td>\n",
       "    </tr>\n",
       "  </tbody>\n",
       "</table>\n",
       "<p>79539 rows × 2 columns</p>\n",
       "</div>"
      ],
      "text/plain": [
       "         fid        GID_2\n",
       "0      87986   AFG.11.4_1\n",
       "1      80316   AFG.12.2_1\n",
       "2       2192   AFG.12.4_1\n",
       "3      65733  AFG.14.11_1\n",
       "4      85529  AFG.14.14_1\n",
       "...      ...          ...\n",
       "79534  76411    ZWE.9.7_1\n",
       "79535  78441    ZWE.9.7_1\n",
       "79536  60506         None\n",
       "79537  77440         None\n",
       "79538  77945         None\n",
       "\n",
       "[79539 rows x 2 columns]"
      ]
     },
     "metadata": {},
     "execution_count": 7
    }
   ],
   "metadata": {}
  },
  {
   "cell_type": "code",
   "execution_count": 8,
   "source": [
    "reservoirs_and_gadm2[['fid', 'GID_2']].to_csv(out_dir_monthly_timeseries_by_gadm2 / 'reservoirid_gadm2_mapping.csv', index=False)"
   ],
   "outputs": [],
   "metadata": {}
  },
  {
   "cell_type": "code",
   "execution_count": 9,
   "source": [
    "def compute_aggreated_timeseries(gadm2_id):\r\n",
    "    reservoir_ids = reservoirs_and_gadm2[reservoirs_and_gadm2.GID_2 == gadm2_id].fid.values    \r\n",
    "    filenames = [f'{str(fid).zfill(7)}.csv' for fid in reservoir_ids]\r\n",
    "\r\n",
    "    dfs = []\r\n",
    "    for f in filenames:\r\n",
    "        path = pathlib.Path(dir_monthly_timeseries) / f\r\n",
    "        \r\n",
    "        if not path.exists():\r\n",
    "            print(f'Warning, time series does not exist: {path.name}')\r\n",
    "            continue\r\n",
    "        \r\n",
    "        dfs.append(read_time_series(path))\r\n",
    "        \r\n",
    "    if len(dfs) == 0:\r\n",
    "        return\r\n",
    "        \r\n",
    "    df = dfs[0]\r\n",
    "    for i, df_ in enumerate(dfs[1:]):\r\n",
    "        df = df.join(df_, how='outer', rsuffix=f'_{i}')\r\n",
    "    \r\n",
    "    df['area'] = df.sum(axis=1)\r\n",
    "    df = df[['area']]\r\n",
    "    df.to_csv(out_dir_monthly_timeseries_by_gadm2 / f'{gadm2_id}.csv')"
   ],
   "outputs": [],
   "metadata": {}
  },
  {
   "cell_type": "code",
   "execution_count": 10,
   "source": [
    "gadm2_areas = reservoirs_and_gadm2.GID_2.unique()\r\n",
    "\r\n",
    "for i in tqdm(gadm2_areas):\r\n",
    "    compute_aggreated_timeseries(i)"
   ],
   "outputs": [
    {
     "output_type": "display_data",
     "data": {
      "application/vnd.jupyter.widget-view+json": {
       "model_id": "2076636af4444fb8a442da6a029be639",
       "version_major": 2,
       "version_minor": 0
      },
      "text/plain": [
       "HBox(children=(FloatProgress(value=0.0, max=16272.0), HTML(value='')))"
      ]
     },
     "metadata": {}
    },
    {
     "output_type": "stream",
     "name": "stdout",
     "text": [
      "Warning, time series does not exist: 0035618.csv\n",
      "\n"
     ]
    }
   ],
   "metadata": {}
  },
  {
   "cell_type": "code",
   "execution_count": null,
   "source": [
    "\r\n",
    "\r\n",
    "\r\n",
    "\r\n",
    "\r\n",
    "\r\n",
    "\r\n",
    "\r\n",
    "\r\n",
    "\r\n",
    "\r\n",
    "\r\n",
    "\r\n",
    "\r\n",
    "\r\n",
    "\r\n",
    "\r\n"
   ],
   "outputs": [],
   "metadata": {}
  },
  {
   "cell_type": "code",
   "execution_count": 11,
   "source": [
    "compute_aggreated_timeseries('PRK.3.7_1')"
   ],
   "outputs": [],
   "metadata": {}
  },
  {
   "cell_type": "code",
   "execution_count": 12,
   "source": [
    "reservoir_ids = reservoirs_and_gadm2[reservoirs_and_gadm2.GID_2 == 'PRK.3.7_1'].fid.values\n",
    "reservoir_ids"
   ],
   "outputs": [
    {
     "output_type": "execute_result",
     "data": {
      "text/plain": [
       "array([33154, 42305, 42642])"
      ]
     },
     "metadata": {},
     "execution_count": 12
    }
   ],
   "metadata": {}
  },
  {
   "cell_type": "code",
   "execution_count": 13,
   "source": [
    "filenames = [f'{str(fid).zfill(7)}.csv' for fid in reservoir_ids]\n",
    "filenames"
   ],
   "outputs": [
    {
     "output_type": "execute_result",
     "data": {
      "text/plain": [
       "['0033154.csv', '0042305.csv', '0042642.csv']"
      ]
     },
     "metadata": {},
     "execution_count": 13
    }
   ],
   "metadata": {}
  },
  {
   "cell_type": "code",
   "execution_count": 14,
   "source": [
    "dfs = []\n",
    "for f in filenames:\n",
    "    path = pathlib.Path(dir_monthly_timeseries) / f\n",
    "    dfs.append(read_time_series(path))"
   ],
   "outputs": [],
   "metadata": {}
  },
  {
   "cell_type": "code",
   "execution_count": 15,
   "source": [
    "df = dfs[0]\n",
    "for i, df_ in enumerate(dfs[1:]):\n",
    "    df = df.join(df_, how='outer', rsuffix=f'_{i}')"
   ],
   "outputs": [],
   "metadata": {}
  },
  {
   "cell_type": "code",
   "execution_count": 16,
   "source": [
    "fig, ax = plt.subplots(1, 1)\n",
    "df.sum(axis=1).plot(ax=ax)\n",
    "df.plot(ax=ax)"
   ],
   "outputs": [
    {
     "output_type": "execute_result",
     "data": {
      "text/plain": [
       "<matplotlib.axes._subplots.AxesSubplot at 0x206ff4a3648>"
      ]
     },
     "metadata": {},
     "execution_count": 16
    },
    {
     "output_type": "display_data",
     "data": {
      "image/png": "[encoded data removed]",
      "text/plain": [
       "<Figure size 432x288 with 1 Axes>"
      ]
     },
     "metadata": {
      "needs_background": "light"
     }
    }
   ],
   "metadata": {}
  },
  {
   "cell_type": "code",
   "execution_count": 17,
   "source": [
    "df"
   ],
   "outputs": [
    {
     "output_type": "execute_result",
     "data": {
      "text/html": [
       "<div>\n",
       "<style scoped>\n",
       "    .dataframe tbody tr th:only-of-type {\n",
       "        vertical-align: middle;\n",
       "    }\n",
       "\n",
       "    .dataframe tbody tr th {\n",
       "        vertical-align: top;\n",
       "    }\n",
       "\n",
       "    .dataframe thead th {\n",
       "        text-align: right;\n",
       "    }\n",
       "</style>\n",
       "<table border=\"1\" class=\"dataframe\">\n",
       "  <thead>\n",
       "    <tr style=\"text-align: right;\">\n",
       "      <th></th>\n",
       "      <th>area</th>\n",
       "      <th>area_0</th>\n",
       "      <th>area_1</th>\n",
       "    </tr>\n",
       "    <tr>\n",
       "      <th>time</th>\n",
       "      <th></th>\n",
       "      <th></th>\n",
       "      <th></th>\n",
       "    </tr>\n",
       "  </thead>\n",
       "  <tbody>\n",
       "    <tr>\n",
       "      <th>1985-04-30</th>\n",
       "      <td>239163.483881</td>\n",
       "      <td>43776.246536</td>\n",
       "      <td>363793.896198</td>\n",
       "    </tr>\n",
       "    <tr>\n",
       "      <th>1985-05-31</th>\n",
       "      <td>248218.860104</td>\n",
       "      <td>44971.748637</td>\n",
       "      <td>352711.762373</td>\n",
       "    </tr>\n",
       "    <tr>\n",
       "      <th>1985-06-30</th>\n",
       "      <td>255326.369890</td>\n",
       "      <td>48179.330350</td>\n",
       "      <td>347178.165959</td>\n",
       "    </tr>\n",
       "    <tr>\n",
       "      <th>1985-07-31</th>\n",
       "      <td>260991.850232</td>\n",
       "      <td>53260.756086</td>\n",
       "      <td>345042.627438</td>\n",
       "    </tr>\n",
       "    <tr>\n",
       "      <th>1985-08-31</th>\n",
       "      <td>264983.388068</td>\n",
       "      <td>59780.226353</td>\n",
       "      <td>344737.550506</td>\n",
       "    </tr>\n",
       "    <tr>\n",
       "      <th>...</th>\n",
       "      <td>...</td>\n",
       "      <td>...</td>\n",
       "      <td>...</td>\n",
       "    </tr>\n",
       "    <tr>\n",
       "      <th>2020-10-31</th>\n",
       "      <td>217268.325283</td>\n",
       "      <td>364691.153310</td>\n",
       "      <td>263158.695798</td>\n",
       "    </tr>\n",
       "    <tr>\n",
       "      <th>2020-11-30</th>\n",
       "      <td>268902.106534</td>\n",
       "      <td>392880.723762</td>\n",
       "      <td>306353.924487</td>\n",
       "    </tr>\n",
       "    <tr>\n",
       "      <th>2020-12-31</th>\n",
       "      <td>255318.432055</td>\n",
       "      <td>397383.018232</td>\n",
       "      <td>313321.056827</td>\n",
       "    </tr>\n",
       "    <tr>\n",
       "      <th>2021-01-31</th>\n",
       "      <td>261773.896064</td>\n",
       "      <td>404502.665573</td>\n",
       "      <td>349142.376008</td>\n",
       "    </tr>\n",
       "    <tr>\n",
       "      <th>2021-02-28</th>\n",
       "      <td>248968.801446</td>\n",
       "      <td>405419.335332</td>\n",
       "      <td>329198.215668</td>\n",
       "    </tr>\n",
       "  </tbody>\n",
       "</table>\n",
       "<p>431 rows × 3 columns</p>\n",
       "</div>"
      ],
      "text/plain": [
       "                     area         area_0         area_1\n",
       "time                                                   \n",
       "1985-04-30  239163.483881   43776.246536  363793.896198\n",
       "1985-05-31  248218.860104   44971.748637  352711.762373\n",
       "1985-06-30  255326.369890   48179.330350  347178.165959\n",
       "1985-07-31  260991.850232   53260.756086  345042.627438\n",
       "1985-08-31  264983.388068   59780.226353  344737.550506\n",
       "...                   ...            ...            ...\n",
       "2020-10-31  217268.325283  364691.153310  263158.695798\n",
       "2020-11-30  268902.106534  392880.723762  306353.924487\n",
       "2020-12-31  255318.432055  397383.018232  313321.056827\n",
       "2021-01-31  261773.896064  404502.665573  349142.376008\n",
       "2021-02-28  248968.801446  405419.335332  329198.215668\n",
       "\n",
       "[431 rows x 3 columns]"
      ]
     },
     "metadata": {},
     "execution_count": 17
    }
   ],
   "metadata": {}
  },
  {
   "cell_type": "code",
   "execution_count": null,
   "source": [],
   "outputs": [],
   "metadata": {}
  }
 ],
 "metadata": {
  "kernelspec": {
   "display_name": "Python 3",
   "language": "python",
   "name": "python3"
  },
  "language_info": {
   "codemirror_mode": {
    "name": "ipython",
    "version": 3
   },
   "file_extension": ".py",
   "mimetype": "text/x-python",
   "name": "python",
   "nbconvert_exporter": "python",
   "pygments_lexer": "ipython3",
   "version": "3.7.6"
  }
 },
 "nbformat": 4,
 "nbformat_minor": 4
}