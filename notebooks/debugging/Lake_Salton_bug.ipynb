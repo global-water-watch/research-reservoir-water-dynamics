{
 "cells": [
  {
   "cell_type": "markdown",
   "id": "91a72461-42f6-4fae-a5e9-f59e9457ebb3",
   "metadata": {},
   "source": [
    "# Bug in Lake Salton"
   ]
  },
  {
   "cell_type": "code",
   "execution_count": 1,
   "id": "770c1ee5-9de3-4cee-b48b-87aa4a2c24ea",
   "metadata": {
    "tags": []
   },
   "outputs": [
    {
     "name": "stdout",
     "output_type": "stream",
     "text": [
      "\u001b[33mWARNING: Skipping eepackages as it is not installed.\u001b[0m\u001b[33m\n",
      "\u001b[0m"
     ]
    }
   ],
   "source": [
    "!pip uninstall -y eepackages"
   ]
  },
  {
   "cell_type": "code",
   "execution_count": 2,
   "id": "23de0d95-f217-44e7-ac38-8618dbe2b118",
   "metadata": {
    "tags": []
   },
   "outputs": [],
   "source": [
    "import os\n",
    "from pathlib import Path\n",
    "import sys\n",
    "\n",
    "import ee\n",
    "\n",
    "\n",
    "# Import debug version of eepackages, otherwise install latest\n",
    "sys.path.append(str(Path.cwd().parent.parent.parent.absolute()) + os.sep + \"ee-packages-py\")\n",
    "\n",
    "from eepackages.applications.waterbody_area import computeSurfaceWaterArea, extrapolate_JRC"
   ]
  },
  {
   "cell_type": "code",
   "execution_count": 3,
   "id": "684599c6-a59b-47d2-b1f8-44c6ba73a744",
   "metadata": {
    "tags": []
   },
   "outputs": [],
   "source": [
    "ee.Initialize()"
   ]
  },
  {
   "cell_type": "markdown",
   "id": "8c3ffde0-bb1e-4f55-95ec-068052d3096e",
   "metadata": {},
   "source": [
    "First we run the full algorithm to see where we have strange data points:"
   ]
  },
  {
   "cell_type": "code",
   "execution_count": 23,
   "id": "93c51a37-a5d9-41d2-959b-e772a17c472b",
   "metadata": {
    "tags": []
   },
   "outputs": [],
   "source": [
    "# 90686 - Salton\n",
    "fid = 90554  # mead\n",
    "waterbody = ee.Feature(ee.FeatureCollection(\"projects/global-water-watch/assets/reservoirs/quality_score_reservoirs\").filter(ee.Filter.eq(\"fid\", fid)).first())\n",
    "export_time_start_filter = \"2022-06-01\"\n",
    "export_time_start = \"2022-06-01\"\n",
    "export_time_stop = \"2022-09-01\"\n",
    "water_occurrence = (\n",
    "    ee.Image(\"JRC/GSW1_3/GlobalSurfaceWater\")\n",
    "    .select(\"occurrence\")\n",
    "    .unmask(0)\n",
    "    .resample(\"bicubic\")\n",
    "    .divide(100)\n",
    ")"
   ]
  },
  {
   "cell_type": "code",
   "execution_count": 24,
   "id": "288b12e9-de7e-4d2d-a69f-0d0d62c78648",
   "metadata": {
    "tags": []
   },
   "outputs": [],
   "source": [
    "scale = ee.Feature(waterbody).geometry().area().sqrt().divide(200).max(10).getInfo()\n",
    "\n",
    "missions = [\"L4\", \"L5\", \"L7\", \"L8\", \"L9\", \"S2\"]\n",
    "\n",
    "water_area = computeSurfaceWaterArea(\n",
    "    waterbody=ee.Feature(waterbody),\n",
    "    start_filter=export_time_start_filter,\n",
    "    start=export_time_start,\n",
    "    stop=export_time_stop,\n",
    "    scale=scale,\n",
    "    waterOccurrence=ee.Image(water_occurrence),\n",
    "    opt_missions=missions,\n",
    "    quality_score_attributes=[\"qTh_15\", \"qTh_10\", \"qTh_5\", \"qTh_0\"],\n",
    ")\n",
    "\n",
    "water_area = (\n",
    "    ee.FeatureCollection(water_area)\n",
    "    .filter(\n",
    "        ee.Filter.And(\n",
    "            ee.Filter.neq(\"p\", 101),\n",
    "            ee.Filter.gt(\"ndwi_threshold\", -0.15),\n",
    "            ee.Filter.lt(\"ndwi_threshold\", 0.5),\n",
    "            ee.Filter.lt(\"filled_fraction\", 0.6),\n",
    "        )\n",
    "    )\n",
    "    .sort(\"system:time_start\")\n",
    ")\n",
    "\n",
    "properties = [\n",
    "    \"MISSION\",\n",
    "    \"ndwi_threshold\",\n",
    "    \"quality_score\",\n",
    "    \"area_filled\",\n",
    "    \"filled_fraction\",\n",
    "    \"p\",\n",
    "    \"system:time_start\",\n",
    "    \"area\",\n",
    "]\n",
    "properties_new = [\n",
    "    \"mission\",\n",
    "    \"ndwi_threshold\",\n",
    "    \"quality_score\",\n",
    "    \"water_area_filled\",\n",
    "    \"water_area_filled_fraction\",\n",
    "    \"water_area_p\",\n",
    "    \"water_area_time\",\n",
    "    \"water_area_value\",\n",
    "]\n",
    "\n",
    "water_area = (\n",
    "    ee.FeatureCollection(water_area)\n",
    "    .select(properties, properties_new, False)\n",
    "    .set(\"scale\", scale)\n",
    ")\n"
   ]
  },
  {
   "cell_type": "code",
   "execution_count": 6,
   "id": "68fee01b-aa47-4d31-9275-96fb64fb1b1e",
   "metadata": {
    "tags": []
   },
   "outputs": [],
   "source": [
    "water_area = water_area.getInfo()"
   ]
  },
  {
   "cell_type": "code",
   "execution_count": 7,
   "id": "238d1de1-b14f-4cc1-9539-0fc743e8de36",
   "metadata": {
    "tags": []
   },
   "outputs": [],
   "source": [
    "import pandas as pd\n",
    "df: pd.DataFrame = pd.DataFrame(\n",
    "    list(map(lambda feature: feature[\"properties\"], water_area[\"features\"]))\n",
    ")"
   ]
  },
  {
   "cell_type": "code",
   "execution_count": 8,
   "id": "e04942a3-7a84-4168-8430-517d02cc029e",
   "metadata": {
    "tags": []
   },
   "outputs": [],
   "source": [
    "df[\"water_area_time\"] = pd.to_datetime(df[\"water_area_time\"], unit=\"ms\", utc=True)"
   ]
  },
  {
   "cell_type": "code",
   "execution_count": 9,
   "id": "b81f9eea-1cdc-4c87-9256-e699cc06bdd8",
   "metadata": {
    "tags": []
   },
   "outputs": [
    {
     "data": {
      "text/html": [
       "<div>\n",
       "<style scoped>\n",
       "    .dataframe tbody tr th:only-of-type {\n",
       "        vertical-align: middle;\n",
       "    }\n",
       "\n",
       "    .dataframe tbody tr th {\n",
       "        vertical-align: top;\n",
       "    }\n",
       "\n",
       "    .dataframe thead th {\n",
       "        text-align: right;\n",
       "    }\n",
       "</style>\n",
       "<table border=\"1\" class=\"dataframe\">\n",
       "  <thead>\n",
       "    <tr style=\"text-align: right;\">\n",
       "      <th></th>\n",
       "      <th>mission</th>\n",
       "      <th>ndwi_threshold</th>\n",
       "      <th>quality_score</th>\n",
       "      <th>water_area_filled</th>\n",
       "      <th>water_area_filled_fraction</th>\n",
       "      <th>water_area_p</th>\n",
       "      <th>water_area_time</th>\n",
       "      <th>water_area_value</th>\n",
       "    </tr>\n",
       "  </thead>\n",
       "  <tbody>\n",
       "    <tr>\n",
       "      <th>0</th>\n",
       "      <td>S2</td>\n",
       "      <td>-0.035257</td>\n",
       "      <td>0.207929</td>\n",
       "      <td>2.947854e+08</td>\n",
       "      <td>0.114502</td>\n",
       "      <td>0.96</td>\n",
       "      <td>2022-06-04 18:34:17.667000+00:00</td>\n",
       "      <td>2.610318e+08</td>\n",
       "    </tr>\n",
       "    <tr>\n",
       "      <th>1</th>\n",
       "      <td>S2</td>\n",
       "      <td>-0.019718</td>\n",
       "      <td>0.200483</td>\n",
       "      <td>2.966085e+08</td>\n",
       "      <td>0.583392</td>\n",
       "      <td>0.95</td>\n",
       "      <td>2022-06-04 18:34:32.227000+00:00</td>\n",
       "      <td>1.235695e+08</td>\n",
       "    </tr>\n",
       "    <tr>\n",
       "      <th>2</th>\n",
       "      <td>S2</td>\n",
       "      <td>0.053893</td>\n",
       "      <td>0.204050</td>\n",
       "      <td>2.864826e+08</td>\n",
       "      <td>0.131999</td>\n",
       "      <td>0.97</td>\n",
       "      <td>2022-06-09 18:34:11.876000+00:00</td>\n",
       "      <td>2.486672e+08</td>\n",
       "    </tr>\n",
       "    <tr>\n",
       "      <th>3</th>\n",
       "      <td>S2</td>\n",
       "      <td>0.055283</td>\n",
       "      <td>0.198426</td>\n",
       "      <td>2.901895e+08</td>\n",
       "      <td>0.590522</td>\n",
       "      <td>0.97</td>\n",
       "      <td>2022-06-09 18:34:26.432000+00:00</td>\n",
       "      <td>1.188262e+08</td>\n",
       "    </tr>\n",
       "    <tr>\n",
       "      <th>4</th>\n",
       "      <td>S2</td>\n",
       "      <td>0.039211</td>\n",
       "      <td>0.206147</td>\n",
       "      <td>2.890425e+08</td>\n",
       "      <td>0.134310</td>\n",
       "      <td>0.96</td>\n",
       "      <td>2022-06-14 18:34:20.376000+00:00</td>\n",
       "      <td>2.502211e+08</td>\n",
       "    </tr>\n",
       "    <tr>\n",
       "      <th>5</th>\n",
       "      <td>S2</td>\n",
       "      <td>0.055449</td>\n",
       "      <td>0.200106</td>\n",
       "      <td>2.943112e+08</td>\n",
       "      <td>0.597177</td>\n",
       "      <td>0.96</td>\n",
       "      <td>2022-06-14 18:34:34.935000+00:00</td>\n",
       "      <td>1.185554e+08</td>\n",
       "    </tr>\n",
       "    <tr>\n",
       "      <th>6</th>\n",
       "      <td>S2</td>\n",
       "      <td>0.069822</td>\n",
       "      <td>0.204145</td>\n",
       "      <td>2.697062e+08</td>\n",
       "      <td>0.089562</td>\n",
       "      <td>0.98</td>\n",
       "      <td>2022-06-19 18:34:14.170000+00:00</td>\n",
       "      <td>2.455506e+08</td>\n",
       "    </tr>\n",
       "    <tr>\n",
       "      <th>7</th>\n",
       "      <td>S2</td>\n",
       "      <td>0.116338</td>\n",
       "      <td>0.198286</td>\n",
       "      <td>2.447022e+08</td>\n",
       "      <td>0.530320</td>\n",
       "      <td>0.98</td>\n",
       "      <td>2022-06-19 18:34:28.715000+00:00</td>\n",
       "      <td>1.149317e+08</td>\n",
       "    </tr>\n",
       "    <tr>\n",
       "      <th>8</th>\n",
       "      <td>S2</td>\n",
       "      <td>0.179793</td>\n",
       "      <td>0.202241</td>\n",
       "      <td>2.555449e+08</td>\n",
       "      <td>0.137333</td>\n",
       "      <td>0.98</td>\n",
       "      <td>2022-06-24 18:34:22.247000+00:00</td>\n",
       "      <td>2.204500e+08</td>\n",
       "    </tr>\n",
       "    <tr>\n",
       "      <th>9</th>\n",
       "      <td>S2</td>\n",
       "      <td>0.242359</td>\n",
       "      <td>0.195822</td>\n",
       "      <td>7.546453e+07</td>\n",
       "      <td>0.062581</td>\n",
       "      <td>0.99</td>\n",
       "      <td>2022-06-24 18:34:25.432000+00:00</td>\n",
       "      <td>7.074191e+07</td>\n",
       "    </tr>\n",
       "    <tr>\n",
       "      <th>10</th>\n",
       "      <td>S2</td>\n",
       "      <td>0.211343</td>\n",
       "      <td>0.204847</td>\n",
       "      <td>2.323271e+08</td>\n",
       "      <td>0.592772</td>\n",
       "      <td>0.98</td>\n",
       "      <td>2022-06-24 18:34:36.797000+00:00</td>\n",
       "      <td>9.461020e+07</td>\n",
       "    </tr>\n",
       "    <tr>\n",
       "      <th>11</th>\n",
       "      <td>S2</td>\n",
       "      <td>0.259370</td>\n",
       "      <td>0.179150</td>\n",
       "      <td>7.540570e+07</td>\n",
       "      <td>0.063253</td>\n",
       "      <td>0.99</td>\n",
       "      <td>2022-06-24 18:34:40.128000+00:00</td>\n",
       "      <td>7.063603e+07</td>\n",
       "    </tr>\n",
       "    <tr>\n",
       "      <th>12</th>\n",
       "      <td>S2</td>\n",
       "      <td>0.024017</td>\n",
       "      <td>0.212823</td>\n",
       "      <td>3.060622e+08</td>\n",
       "      <td>0.146079</td>\n",
       "      <td>0.96</td>\n",
       "      <td>2022-06-29 18:34:14.929000+00:00</td>\n",
       "      <td>2.613529e+08</td>\n",
       "    </tr>\n",
       "    <tr>\n",
       "      <th>13</th>\n",
       "      <td>S2</td>\n",
       "      <td>0.054055</td>\n",
       "      <td>0.220579</td>\n",
       "      <td>3.030687e+08</td>\n",
       "      <td>0.584398</td>\n",
       "      <td>0.96</td>\n",
       "      <td>2022-06-29 18:34:29.473000+00:00</td>\n",
       "      <td>1.259559e+08</td>\n",
       "    </tr>\n",
       "    <tr>\n",
       "      <th>14</th>\n",
       "      <td>S2</td>\n",
       "      <td>0.007619</td>\n",
       "      <td>0.204672</td>\n",
       "      <td>2.891578e+08</td>\n",
       "      <td>0.129594</td>\n",
       "      <td>0.96</td>\n",
       "      <td>2022-07-04 18:34:25.971000+00:00</td>\n",
       "      <td>2.516847e+08</td>\n",
       "    </tr>\n",
       "    <tr>\n",
       "      <th>15</th>\n",
       "      <td>S2</td>\n",
       "      <td>0.024304</td>\n",
       "      <td>0.200144</td>\n",
       "      <td>2.902527e+08</td>\n",
       "      <td>0.588770</td>\n",
       "      <td>0.96</td>\n",
       "      <td>2022-07-04 18:34:37.407000+00:00</td>\n",
       "      <td>1.193606e+08</td>\n",
       "    </tr>\n",
       "    <tr>\n",
       "      <th>16</th>\n",
       "      <td>S2</td>\n",
       "      <td>0.163982</td>\n",
       "      <td>0.205940</td>\n",
       "      <td>2.575196e+08</td>\n",
       "      <td>0.134797</td>\n",
       "      <td>0.98</td>\n",
       "      <td>2022-07-09 18:34:14.538000+00:00</td>\n",
       "      <td>2.228069e+08</td>\n",
       "    </tr>\n",
       "    <tr>\n",
       "      <th>17</th>\n",
       "      <td>S2</td>\n",
       "      <td>0.178955</td>\n",
       "      <td>0.198699</td>\n",
       "      <td>7.402009e+07</td>\n",
       "      <td>0.065075</td>\n",
       "      <td>0.99</td>\n",
       "      <td>2022-07-09 18:34:17.716000+00:00</td>\n",
       "      <td>6.920326e+07</td>\n",
       "    </tr>\n",
       "    <tr>\n",
       "      <th>18</th>\n",
       "      <td>S2</td>\n",
       "      <td>0.164873</td>\n",
       "      <td>0.198477</td>\n",
       "      <td>2.393787e+08</td>\n",
       "      <td>0.559692</td>\n",
       "      <td>0.98</td>\n",
       "      <td>2022-07-09 18:34:29.094000+00:00</td>\n",
       "      <td>1.054005e+08</td>\n",
       "    </tr>\n",
       "    <tr>\n",
       "      <th>19</th>\n",
       "      <td>S2</td>\n",
       "      <td>-0.054606</td>\n",
       "      <td>0.254729</td>\n",
       "      <td>4.381709e+08</td>\n",
       "      <td>0.096766</td>\n",
       "      <td>0.93</td>\n",
       "      <td>2022-07-14 18:34:22.319000+00:00</td>\n",
       "      <td>3.957709e+08</td>\n",
       "    </tr>\n",
       "    <tr>\n",
       "      <th>20</th>\n",
       "      <td>S2</td>\n",
       "      <td>0.022458</td>\n",
       "      <td>0.246868</td>\n",
       "      <td>3.186847e+08</td>\n",
       "      <td>0.586424</td>\n",
       "      <td>0.95</td>\n",
       "      <td>2022-07-14 18:34:36.869000+00:00</td>\n",
       "      <td>1.318003e+08</td>\n",
       "    </tr>\n",
       "    <tr>\n",
       "      <th>21</th>\n",
       "      <td>S2</td>\n",
       "      <td>0.164087</td>\n",
       "      <td>0.192301</td>\n",
       "      <td>2.626271e+08</td>\n",
       "      <td>0.102551</td>\n",
       "      <td>0.98</td>\n",
       "      <td>2022-07-19 18:34:14.686000+00:00</td>\n",
       "      <td>2.356944e+08</td>\n",
       "    </tr>\n",
       "    <tr>\n",
       "      <th>22</th>\n",
       "      <td>S2</td>\n",
       "      <td>0.242414</td>\n",
       "      <td>0.188679</td>\n",
       "      <td>7.445981e+07</td>\n",
       "      <td>0.064058</td>\n",
       "      <td>0.99</td>\n",
       "      <td>2022-07-19 18:34:17.861000+00:00</td>\n",
       "      <td>6.969009e+07</td>\n",
       "    </tr>\n",
       "    <tr>\n",
       "      <th>23</th>\n",
       "      <td>S2</td>\n",
       "      <td>0.195470</td>\n",
       "      <td>0.186410</td>\n",
       "      <td>2.414982e+08</td>\n",
       "      <td>0.540737</td>\n",
       "      <td>0.98</td>\n",
       "      <td>2022-07-19 18:34:29.239000+00:00</td>\n",
       "      <td>1.109111e+08</td>\n",
       "    </tr>\n",
       "    <tr>\n",
       "      <th>24</th>\n",
       "      <td>S2</td>\n",
       "      <td>0.070203</td>\n",
       "      <td>0.279586</td>\n",
       "      <td>2.501495e+08</td>\n",
       "      <td>0.252199</td>\n",
       "      <td>0.98</td>\n",
       "      <td>2022-07-24 18:34:20.236000+00:00</td>\n",
       "      <td>1.870621e+08</td>\n",
       "    </tr>\n",
       "    <tr>\n",
       "      <th>25</th>\n",
       "      <td>S2</td>\n",
       "      <td>0.086223</td>\n",
       "      <td>0.233700</td>\n",
       "      <td>5.765443e+07</td>\n",
       "      <td>0.083546</td>\n",
       "      <td>0.99</td>\n",
       "      <td>2022-07-24 18:34:23.413000+00:00</td>\n",
       "      <td>5.283766e+07</td>\n",
       "    </tr>\n",
       "    <tr>\n",
       "      <th>26</th>\n",
       "      <td>S2</td>\n",
       "      <td>0.070206</td>\n",
       "      <td>0.203841</td>\n",
       "      <td>6.102568e+07</td>\n",
       "      <td>0.078158</td>\n",
       "      <td>0.99</td>\n",
       "      <td>2022-07-24 18:34:38.114000+00:00</td>\n",
       "      <td>5.625605e+07</td>\n",
       "    </tr>\n",
       "    <tr>\n",
       "      <th>27</th>\n",
       "      <td>S2</td>\n",
       "      <td>0.211672</td>\n",
       "      <td>0.287117</td>\n",
       "      <td>5.550393e+07</td>\n",
       "      <td>0.088488</td>\n",
       "      <td>0.99</td>\n",
       "      <td>2022-07-29 18:34:14.716000+00:00</td>\n",
       "      <td>5.059249e+07</td>\n",
       "    </tr>\n",
       "    <tr>\n",
       "      <th>28</th>\n",
       "      <td>S2</td>\n",
       "      <td>0.257784</td>\n",
       "      <td>0.180689</td>\n",
       "      <td>5.675035e+07</td>\n",
       "      <td>0.088196</td>\n",
       "      <td>0.99</td>\n",
       "      <td>2022-07-29 18:34:17.892000+00:00</td>\n",
       "      <td>5.174517e+07</td>\n",
       "    </tr>\n",
       "    <tr>\n",
       "      <th>29</th>\n",
       "      <td>S2</td>\n",
       "      <td>0.257952</td>\n",
       "      <td>0.283644</td>\n",
       "      <td>4.920035e+07</td>\n",
       "      <td>0.105558</td>\n",
       "      <td>0.99</td>\n",
       "      <td>2022-07-29 18:34:29.277000+00:00</td>\n",
       "      <td>4.400685e+07</td>\n",
       "    </tr>\n",
       "    <tr>\n",
       "      <th>30</th>\n",
       "      <td>S2</td>\n",
       "      <td>0.273024</td>\n",
       "      <td>0.164660</td>\n",
       "      <td>5.653443e+07</td>\n",
       "      <td>0.088811</td>\n",
       "      <td>0.99</td>\n",
       "      <td>2022-07-29 18:34:32.594000+00:00</td>\n",
       "      <td>5.151357e+07</td>\n",
       "    </tr>\n",
       "    <tr>\n",
       "      <th>31</th>\n",
       "      <td>S2</td>\n",
       "      <td>0.148758</td>\n",
       "      <td>0.192295</td>\n",
       "      <td>2.654500e+08</td>\n",
       "      <td>0.100509</td>\n",
       "      <td>0.98</td>\n",
       "      <td>2022-08-03 18:34:20.521000+00:00</td>\n",
       "      <td>2.387698e+08</td>\n",
       "    </tr>\n",
       "    <tr>\n",
       "      <th>32</th>\n",
       "      <td>S2</td>\n",
       "      <td>0.196117</td>\n",
       "      <td>0.188537</td>\n",
       "      <td>2.407584e+08</td>\n",
       "      <td>0.543184</td>\n",
       "      <td>0.98</td>\n",
       "      <td>2022-08-03 18:34:35.086000+00:00</td>\n",
       "      <td>1.099823e+08</td>\n",
       "    </tr>\n",
       "    <tr>\n",
       "      <th>33</th>\n",
       "      <td>S2</td>\n",
       "      <td>0.086184</td>\n",
       "      <td>0.213576</td>\n",
       "      <td>4.369575e+07</td>\n",
       "      <td>0.114548</td>\n",
       "      <td>0.99</td>\n",
       "      <td>2022-08-08 18:34:16.955000+00:00</td>\n",
       "      <td>3.869050e+07</td>\n",
       "    </tr>\n",
       "    <tr>\n",
       "      <th>34</th>\n",
       "      <td>S2</td>\n",
       "      <td>0.097656</td>\n",
       "      <td>0.192743</td>\n",
       "      <td>4.150045e+07</td>\n",
       "      <td>0.123255</td>\n",
       "      <td>0.99</td>\n",
       "      <td>2022-08-08 18:34:31.661000+00:00</td>\n",
       "      <td>3.638530e+07</td>\n",
       "    </tr>\n",
       "    <tr>\n",
       "      <th>35</th>\n",
       "      <td>S2</td>\n",
       "      <td>0.180484</td>\n",
       "      <td>0.232307</td>\n",
       "      <td>2.334285e+08</td>\n",
       "      <td>0.231643</td>\n",
       "      <td>0.98</td>\n",
       "      <td>2022-08-18 18:34:11.755000+00:00</td>\n",
       "      <td>1.793565e+08</td>\n",
       "    </tr>\n",
       "    <tr>\n",
       "      <th>36</th>\n",
       "      <td>S2</td>\n",
       "      <td>0.241397</td>\n",
       "      <td>0.187075</td>\n",
       "      <td>7.328257e+07</td>\n",
       "      <td>0.065301</td>\n",
       "      <td>0.99</td>\n",
       "      <td>2022-08-18 18:34:14.921000+00:00</td>\n",
       "      <td>6.849716e+07</td>\n",
       "    </tr>\n",
       "    <tr>\n",
       "      <th>37</th>\n",
       "      <td>S2</td>\n",
       "      <td>0.180115</td>\n",
       "      <td>0.184569</td>\n",
       "      <td>2.664272e+08</td>\n",
       "      <td>0.095255</td>\n",
       "      <td>0.98</td>\n",
       "      <td>2022-08-23 18:34:22.438000+00:00</td>\n",
       "      <td>2.410486e+08</td>\n",
       "    </tr>\n",
       "    <tr>\n",
       "      <th>38</th>\n",
       "      <td>S2</td>\n",
       "      <td>0.227383</td>\n",
       "      <td>0.181308</td>\n",
       "      <td>7.584142e+07</td>\n",
       "      <td>0.062063</td>\n",
       "      <td>0.99</td>\n",
       "      <td>2022-08-23 18:34:25.621000+00:00</td>\n",
       "      <td>7.113450e+07</td>\n",
       "    </tr>\n",
       "    <tr>\n",
       "      <th>39</th>\n",
       "      <td>S2</td>\n",
       "      <td>0.211537</td>\n",
       "      <td>0.180339</td>\n",
       "      <td>2.436029e+08</td>\n",
       "      <td>0.530909</td>\n",
       "      <td>0.98</td>\n",
       "      <td>2022-08-23 18:34:36.979000+00:00</td>\n",
       "      <td>1.142720e+08</td>\n",
       "    </tr>\n",
       "    <tr>\n",
       "      <th>40</th>\n",
       "      <td>S2</td>\n",
       "      <td>0.163527</td>\n",
       "      <td>0.186418</td>\n",
       "      <td>2.829763e+08</td>\n",
       "      <td>0.141290</td>\n",
       "      <td>0.97</td>\n",
       "      <td>2022-08-28 18:34:10.266000+00:00</td>\n",
       "      <td>2.429945e+08</td>\n",
       "    </tr>\n",
       "  </tbody>\n",
       "</table>\n",
       "</div>"
      ],
      "text/plain": [
       "   mission  ndwi_threshold  quality_score  water_area_filled  \\\n",
       "0       S2       -0.035257       0.207929       2.947854e+08   \n",
       "1       S2       -0.019718       0.200483       2.966085e+08   \n",
       "2       S2        0.053893       0.204050       2.864826e+08   \n",
       "3       S2        0.055283       0.198426       2.901895e+08   \n",
       "4       S2        0.039211       0.206147       2.890425e+08   \n",
       "5       S2        0.055449       0.200106       2.943112e+08   \n",
       "6       S2        0.069822       0.204145       2.697062e+08   \n",
       "7       S2        0.116338       0.198286       2.447022e+08   \n",
       "8       S2        0.179793       0.202241       2.555449e+08   \n",
       "9       S2        0.242359       0.195822       7.546453e+07   \n",
       "10      S2        0.211343       0.204847       2.323271e+08   \n",
       "11      S2        0.259370       0.179150       7.540570e+07   \n",
       "12      S2        0.024017       0.212823       3.060622e+08   \n",
       "13      S2        0.054055       0.220579       3.030687e+08   \n",
       "14      S2        0.007619       0.204672       2.891578e+08   \n",
       "15      S2        0.024304       0.200144       2.902527e+08   \n",
       "16      S2        0.163982       0.205940       2.575196e+08   \n",
       "17      S2        0.178955       0.198699       7.402009e+07   \n",
       "18      S2        0.164873       0.198477       2.393787e+08   \n",
       "19      S2       -0.054606       0.254729       4.381709e+08   \n",
       "20      S2        0.022458       0.246868       3.186847e+08   \n",
       "21      S2        0.164087       0.192301       2.626271e+08   \n",
       "22      S2        0.242414       0.188679       7.445981e+07   \n",
       "23      S2        0.195470       0.186410       2.414982e+08   \n",
       "24      S2        0.070203       0.279586       2.501495e+08   \n",
       "25      S2        0.086223       0.233700       5.765443e+07   \n",
       "26      S2        0.070206       0.203841       6.102568e+07   \n",
       "27      S2        0.211672       0.287117       5.550393e+07   \n",
       "28      S2        0.257784       0.180689       5.675035e+07   \n",
       "29      S2        0.257952       0.283644       4.920035e+07   \n",
       "30      S2        0.273024       0.164660       5.653443e+07   \n",
       "31      S2        0.148758       0.192295       2.654500e+08   \n",
       "32      S2        0.196117       0.188537       2.407584e+08   \n",
       "33      S2        0.086184       0.213576       4.369575e+07   \n",
       "34      S2        0.097656       0.192743       4.150045e+07   \n",
       "35      S2        0.180484       0.232307       2.334285e+08   \n",
       "36      S2        0.241397       0.187075       7.328257e+07   \n",
       "37      S2        0.180115       0.184569       2.664272e+08   \n",
       "38      S2        0.227383       0.181308       7.584142e+07   \n",
       "39      S2        0.211537       0.180339       2.436029e+08   \n",
       "40      S2        0.163527       0.186418       2.829763e+08   \n",
       "\n",
       "    water_area_filled_fraction  water_area_p                  water_area_time  \\\n",
       "0                     0.114502          0.96 2022-06-04 18:34:17.667000+00:00   \n",
       "1                     0.583392          0.95 2022-06-04 18:34:32.227000+00:00   \n",
       "2                     0.131999          0.97 2022-06-09 18:34:11.876000+00:00   \n",
       "3                     0.590522          0.97 2022-06-09 18:34:26.432000+00:00   \n",
       "4                     0.134310          0.96 2022-06-14 18:34:20.376000+00:00   \n",
       "5                     0.597177          0.96 2022-06-14 18:34:34.935000+00:00   \n",
       "6                     0.089562          0.98 2022-06-19 18:34:14.170000+00:00   \n",
       "7                     0.530320          0.98 2022-06-19 18:34:28.715000+00:00   \n",
       "8                     0.137333          0.98 2022-06-24 18:34:22.247000+00:00   \n",
       "9                     0.062581          0.99 2022-06-24 18:34:25.432000+00:00   \n",
       "10                    0.592772          0.98 2022-06-24 18:34:36.797000+00:00   \n",
       "11                    0.063253          0.99 2022-06-24 18:34:40.128000+00:00   \n",
       "12                    0.146079          0.96 2022-06-29 18:34:14.929000+00:00   \n",
       "13                    0.584398          0.96 2022-06-29 18:34:29.473000+00:00   \n",
       "14                    0.129594          0.96 2022-07-04 18:34:25.971000+00:00   \n",
       "15                    0.588770          0.96 2022-07-04 18:34:37.407000+00:00   \n",
       "16                    0.134797          0.98 2022-07-09 18:34:14.538000+00:00   \n",
       "17                    0.065075          0.99 2022-07-09 18:34:17.716000+00:00   \n",
       "18                    0.559692          0.98 2022-07-09 18:34:29.094000+00:00   \n",
       "19                    0.096766          0.93 2022-07-14 18:34:22.319000+00:00   \n",
       "20                    0.586424          0.95 2022-07-14 18:34:36.869000+00:00   \n",
       "21                    0.102551          0.98 2022-07-19 18:34:14.686000+00:00   \n",
       "22                    0.064058          0.99 2022-07-19 18:34:17.861000+00:00   \n",
       "23                    0.540737          0.98 2022-07-19 18:34:29.239000+00:00   \n",
       "24                    0.252199          0.98 2022-07-24 18:34:20.236000+00:00   \n",
       "25                    0.083546          0.99 2022-07-24 18:34:23.413000+00:00   \n",
       "26                    0.078158          0.99 2022-07-24 18:34:38.114000+00:00   \n",
       "27                    0.088488          0.99 2022-07-29 18:34:14.716000+00:00   \n",
       "28                    0.088196          0.99 2022-07-29 18:34:17.892000+00:00   \n",
       "29                    0.105558          0.99 2022-07-29 18:34:29.277000+00:00   \n",
       "30                    0.088811          0.99 2022-07-29 18:34:32.594000+00:00   \n",
       "31                    0.100509          0.98 2022-08-03 18:34:20.521000+00:00   \n",
       "32                    0.543184          0.98 2022-08-03 18:34:35.086000+00:00   \n",
       "33                    0.114548          0.99 2022-08-08 18:34:16.955000+00:00   \n",
       "34                    0.123255          0.99 2022-08-08 18:34:31.661000+00:00   \n",
       "35                    0.231643          0.98 2022-08-18 18:34:11.755000+00:00   \n",
       "36                    0.065301          0.99 2022-08-18 18:34:14.921000+00:00   \n",
       "37                    0.095255          0.98 2022-08-23 18:34:22.438000+00:00   \n",
       "38                    0.062063          0.99 2022-08-23 18:34:25.621000+00:00   \n",
       "39                    0.530909          0.98 2022-08-23 18:34:36.979000+00:00   \n",
       "40                    0.141290          0.97 2022-08-28 18:34:10.266000+00:00   \n",
       "\n",
       "    water_area_value  \n",
       "0       2.610318e+08  \n",
       "1       1.235695e+08  \n",
       "2       2.486672e+08  \n",
       "3       1.188262e+08  \n",
       "4       2.502211e+08  \n",
       "5       1.185554e+08  \n",
       "6       2.455506e+08  \n",
       "7       1.149317e+08  \n",
       "8       2.204500e+08  \n",
       "9       7.074191e+07  \n",
       "10      9.461020e+07  \n",
       "11      7.063603e+07  \n",
       "12      2.613529e+08  \n",
       "13      1.259559e+08  \n",
       "14      2.516847e+08  \n",
       "15      1.193606e+08  \n",
       "16      2.228069e+08  \n",
       "17      6.920326e+07  \n",
       "18      1.054005e+08  \n",
       "19      3.957709e+08  \n",
       "20      1.318003e+08  \n",
       "21      2.356944e+08  \n",
       "22      6.969009e+07  \n",
       "23      1.109111e+08  \n",
       "24      1.870621e+08  \n",
       "25      5.283766e+07  \n",
       "26      5.625605e+07  \n",
       "27      5.059249e+07  \n",
       "28      5.174517e+07  \n",
       "29      4.400685e+07  \n",
       "30      5.151357e+07  \n",
       "31      2.387698e+08  \n",
       "32      1.099823e+08  \n",
       "33      3.869050e+07  \n",
       "34      3.638530e+07  \n",
       "35      1.793565e+08  \n",
       "36      6.849716e+07  \n",
       "37      2.410486e+08  \n",
       "38      7.113450e+07  \n",
       "39      1.142720e+08  \n",
       "40      2.429945e+08  "
      ]
     },
     "execution_count": 9,
     "metadata": {},
     "output_type": "execute_result"
    }
   ],
   "source": [
    "df"
   ]
  },
  {
   "cell_type": "markdown",
   "id": "6cdf09f6-fb86-41a0-ae9d-94d828be336e",
   "metadata": {},
   "source": [
    "## Get Images\n",
    "Obtain raw images"
   ]
  },
  {
   "cell_type": "code",
   "execution_count": 27,
   "id": "9902f4a8-02cf-469d-a6fa-47af7634a7df",
   "metadata": {
    "tags": []
   },
   "outputs": [],
   "source": [
    "from datetime import datetime\n",
    "\n",
    "from eepackages.assets import getImages, getMostlyCleanImages\n",
    "from eepackages.utils import computeThresholdUsingOtsu\n",
    "import geemap"
   ]
  },
  {
   "cell_type": "code",
   "execution_count": 28,
   "id": "72421440-eaae-4a5f-8043-eb9259148a40",
   "metadata": {
    "tags": []
   },
   "outputs": [],
   "source": [
    "images = getImages(waterbody.geometry(), {\n",
    "    'resample': True,\n",
    "    'filter': ee.Filter.date(export_time_start, export_time_stop),\n",
    "    'missions': missions,\n",
    "    'scale': scale * 10,\n",
    "}).sort(\"system:time_start\")"
   ]
  },
  {
   "cell_type": "markdown",
   "id": "a6d5198a-996b-4414-8e99-6dfa108d9eeb",
   "metadata": {},
   "source": [
    "### Get Mostly Clean Images\n",
    "Get mostly clean images based on quality score of green pixel"
   ]
  },
  {
   "cell_type": "code",
   "execution_count": 29,
   "id": "23d2354e-580e-4031-a4c6-76a48a801e64",
   "metadata": {
    "tags": []
   },
   "outputs": [],
   "source": [
    "quality_score_attributes = [\"qTh_15\", \"qTh_10\", \"qTh_5\", \"qTh_0\"]\n",
    "props = waterbody.getInfo()[\"properties\"]\n",
    "quality_score_threshold = None\n",
    "if quality_score_attributes:\n",
    "    for prop in quality_score_attributes:\n",
    "        att = props.get(prop)\n",
    "        if att:\n",
    "            quality_score_threshold = att\n",
    "            break\n",
    "\n",
    "options = {\n",
    "  # 'cloudFrequencyThresholdDelta': -0.15\n",
    "   'scale': scale * 5,\n",
    "   'cloud_frequency': props.get('cloud_frequency'),\n",
    "   'quality_score_cloud_threshold': quality_score_threshold,\n",
    "}\n",
    "\n",
    "g = waterbody.geometry().buffer(300, scale)\n",
    "\n",
    "images = getMostlyCleanImages(images, g, options).sort('system:time_start')"
   ]
  },
  {
   "cell_type": "markdown",
   "id": "917cbdde-498b-4fdb-8b41-3f1874b389ff",
   "metadata": {},
   "source": [
    "## Test steps water area algorithm\n",
    "\n",
    "An individual image with an incorrect water area value is taken. Then we plot different steps in the algorithm to debug what is happening at each step."
   ]
  },
  {
   "cell_type": "markdown",
   "id": "3d0b8d40-616d-432b-bcae-5cd61401ce9c",
   "metadata": {},
   "source": [
    "First we can the correct image and call it `i`"
   ]
  },
  {
   "cell_type": "code",
   "execution_count": 30,
   "id": "16be30c4-0bc0-49f0-9278-20b6516a0828",
   "metadata": {
    "tags": []
   },
   "outputs": [],
   "source": [
    "# i = image\n",
    "timestr = \"2022-06-24\"\n",
    "filtered = images.filterDate(ee.Date(timestr), ee.Date(timestr).advance(1, \"day\"))\n",
    "i = ee.Image(filtered.toList(1, 2).get(0))"
   ]
  },
  {
   "cell_type": "code",
   "execution_count": 31,
   "id": "6d77b29a-63cc-4484-b2c8-ee3a7ddba8b2",
   "metadata": {
    "tags": []
   },
   "outputs": [
    {
     "data": {
      "text/plain": [
       "datetime.datetime(2022, 6, 24, 18, 34, 25, 432000)"
      ]
     },
     "execution_count": 31,
     "metadata": {},
     "output_type": "execute_result"
    }
   ],
   "source": [
    "# wanted time: 2022-06-24 18:34:25.432000+00:00\n",
    "datetime.utcfromtimestamp(i.get('system:time_start').getInfo() * 1e-3)"
   ]
  },
  {
   "cell_type": "markdown",
   "id": "1315487c-fd64-4946-8d8f-6eaeac587d08",
   "metadata": {},
   "source": [
    "Then we execute the `get_water_area_singleImage` function step by step"
   ]
  },
  {
   "cell_type": "code",
   "execution_count": 32,
   "id": "9519ff3c-c447-437c-9df1-49b7c25ac157",
   "metadata": {
    "tags": []
   },
   "outputs": [],
   "source": [
    "fillPercentile = 50 # // we don't trust our prior\n",
    "ndwiBands = ['green', 'swir']\n",
    "waterMaxImage = ee.Image().float().paint(waterbody.buffer(150), 1)\n",
    "t = i.get('system:time_start')\n",
    "i = (i\n",
    "    .updateMask(waterMaxImage)\n",
    "    .updateMask(i.select('swir').min(i.select('nir')).gt(0.001)))"
   ]
  },
  {
   "cell_type": "code",
   "execution_count": 33,
   "id": "7a0ec896-da68-4833-a08b-edad61a1732c",
   "metadata": {
    "tags": []
   },
   "outputs": [],
   "source": [
    "geom = ee.Feature(waterbody).geometry()\n",
    "ndwi = i.normalizedDifference(ndwiBands)\n",
    "th = computeThresholdUsingOtsu(ndwi, scale, geom, 0.5, 0.7, -0.2)\n",
    "water = ndwi.gt(th)"
   ]
  },
  {
   "cell_type": "markdown",
   "id": "3eb74a69-a761-4ba5-97ba-09838642f512",
   "metadata": {},
   "source": [
    "print threshold value"
   ]
  },
  {
   "cell_type": "code",
   "execution_count": 34,
   "id": "c8261f12-8540-4d5a-9802-82bd937f63f1",
   "metadata": {
    "tags": []
   },
   "outputs": [
    {
     "data": {
      "text/plain": [
       "0.24235901733239493"
      ]
     },
     "execution_count": 34,
     "metadata": {},
     "output_type": "execute_result"
    }
   ],
   "source": [
    "th.getInfo()"
   ]
  },
  {
   "cell_type": "markdown",
   "id": "38729e0e-7082-4d58-8522-a40ba8528980",
   "metadata": {},
   "source": [
    "Function to extrapolate the JRC to from a maximum \"trusted\" water occurrence value to 1.0 to the center of the waterbody"
   ]
  },
  {
   "cell_type": "code",
   "execution_count": 35,
   "id": "03fb3206-56af-4cf5-a124-839cf80e202a",
   "metadata": {
    "tags": []
   },
   "outputs": [],
   "source": [
    "def extrapolate_JRC(waterbody, scale, max_trusted_occurrence=0.97):\n",
    "    water_occurrence = (\n",
    "        ee.Image(\"JRC/GSW1_4/GlobalSurfaceWater\")\n",
    "        .select(\"occurrence\")\n",
    "        .mask(1)  # fixes JRC masking lacking\n",
    "        .resample(\"bicubic\")\n",
    "        .divide(100)\n",
    "    )\n",
    "\n",
    "    # we don't trust water occurrence dataset when water level is below this (values > th)\n",
    "    min_water = water_occurrence.gt(max_trusted_occurrence)\n",
    "\n",
    "    # Calculate distance from water Occurence max\n",
    "    dist = (\n",
    "        min_water.Not()\n",
    "        .fastDistanceTransform(150)\n",
    "        .reproject(ee.Projection(\"EPSG:4326\").atScale(100))\n",
    "        .resample(\"bicubic\")\n",
    "        .sqrt()\n",
    "        .multiply(100)\n",
    "    )\n",
    "\n",
    "    # calculate max distance for scaling to 1\n",
    "    max_distance = dist.reduceRegion(\n",
    "        reducer=ee.Reducer.max(),\n",
    "        geometry=waterbody.geometry(),\n",
    "        scale=scale,\n",
    "        bestEffort=True,\n",
    "    ).get(\"distance\")\n",
    "\n",
    "    # scale distance values from min_trusted_occurrence to 1\n",
    "    extrap_scale = ee.Number(1).subtract(max_trusted_occurrence).divide(max_distance)\n",
    "    water_occurrence_extrapolated = dist.multiply(extrap_scale).add(\n",
    "        max_trusted_occurrence\n",
    "    )\n",
    "\n",
    "    return water_occurrence.where(\n",
    "        water_occurrence.gt(max_trusted_occurrence), water_occurrence_extrapolated\n",
    "    )"
   ]
  },
  {
   "cell_type": "markdown",
   "id": "e9906d3d-66e0-40d1-8676-bb6ebefc5c53",
   "metadata": {},
   "source": [
    "### Set different water occurrence for gap filling\n",
    "Set what should be used as reference water occurrence"
   ]
  },
  {
   "cell_type": "code",
   "execution_count": 36,
   "id": "fb1b7d79-fc2d-4ff8-822a-1cd4ebbacce5",
   "metadata": {
    "tags": []
   },
   "outputs": [],
   "source": [
    "# waterOccurrence = water_occurrence\n",
    "# waterOccurrence = ee.ImageCollection('GOOGLE/DYNAMICWORLD/V1').select('water').mean()\n",
    "waterOccurrence = extrapolate_JRC(waterbody, scale, max_trusted_occurrence=0.97)"
   ]
  },
  {
   "cell_type": "markdown",
   "id": "836a17e7-7e82-459a-a635-996e5d5be495",
   "metadata": {},
   "source": [
    "Then run the rest of the algorithm"
   ]
  },
  {
   "cell_type": "code",
   "execution_count": 37,
   "id": "6ef65a99-4748-48fd-8e6e-ff6b60a36dd7",
   "metadata": {
    "tags": []
   },
   "outputs": [],
   "source": [
    "area = (ee.Image.pixelArea().mask(water)\n",
    ".reduceRegion(**{\n",
    "  'reducer': ee.Reducer.sum(),\n",
    "  'geometry': geom,\n",
    "  'scale': scale\n",
    "}).get('area'))\n",
    "\n",
    "waterEdge = ee.Algorithms.CannyEdgeDetector(ndwi, 0.5, 0.7)\n",
    "imageMask = ndwi.mask()\n",
    "\n",
    "imageMask = imageMask.focal_min(ee.Number(scale).multiply(1.5), 'square', 'meters')\n",
    "waterEdge = waterEdge.updateMask(imageMask)\n",
    "\n",
    "p = waterOccurrence.mask(waterEdge).reduceRegion(**{\n",
    "'reducer': ee.Reducer.percentile([fillPercentile]),\n",
    "'geometry': geom,\n",
    "'scale': scale\n",
    "}).values().get(0)"
   ]
  },
  {
   "cell_type": "code",
   "execution_count": 38,
   "id": "e23c48ff-9dea-45b4-97ae-a589e9f73884",
   "metadata": {
    "tags": []
   },
   "outputs": [
    {
     "name": "stdout",
     "output_type": "stream",
     "text": [
      "0.9713280831671461\n"
     ]
    }
   ],
   "source": [
    "print(p.getInfo())"
   ]
  },
  {
   "cell_type": "markdown",
   "id": "8f47447c-fadb-4854-8bb3-31a42127237a",
   "metadata": {},
   "source": [
    "Check out if the 95th percentile value is the same as p, often an indication that we are using JRC's \"maximum\" p"
   ]
  },
  {
   "cell_type": "code",
   "execution_count": 39,
   "id": "bc76279a-4313-49dd-8aa1-20055442574c",
   "metadata": {
    "tags": []
   },
   "outputs": [],
   "source": [
    "p95 = waterOccurrence.mask(waterEdge).reduceRegion(**{\n",
    "'reducer': ee.Reducer.percentile([95]),\n",
    "'geometry': geom,\n",
    "'scale': scale\n",
    "}).values().get(0)"
   ]
  },
  {
   "cell_type": "code",
   "execution_count": 40,
   "id": "85d97afa-b64e-4419-9954-7c593ada3df0",
   "metadata": {
    "tags": []
   },
   "outputs": [
    {
     "name": "stdout",
     "output_type": "stream",
     "text": [
      "0.9861588560732589\n"
     ]
    }
   ],
   "source": [
    "print(p95.getInfo())"
   ]
  },
  {
   "cell_type": "markdown",
   "id": "fce35afc-7b35-4a46-a717-435c4704bb88",
   "metadata": {},
   "source": [
    "The JRC has a maximum p value often higher than 1.0, probably due to resampling?"
   ]
  },
  {
   "cell_type": "code",
   "execution_count": 41,
   "id": "f7f4d6ee-7da5-48bd-9b73-19d8195de597",
   "metadata": {
    "tags": []
   },
   "outputs": [],
   "source": [
    "pMax = waterOccurrence.mask(waterEdge).reduceRegion(**{\n",
    "'reducer': ee.Reducer.max(),\n",
    "'geometry': geom,\n",
    "'scale': scale\n",
    "}).values().get(0)"
   ]
  },
  {
   "cell_type": "code",
   "execution_count": 42,
   "id": "6f6a77c6-1c29-414e-a679-f2ea9f76af39",
   "metadata": {
    "tags": []
   },
   "outputs": [
    {
     "name": "stdout",
     "output_type": "stream",
     "text": [
      "0.9926495033058123\n"
     ]
    }
   ],
   "source": [
    "print(pMax.getInfo())"
   ]
  },
  {
   "cell_type": "code",
   "execution_count": 43,
   "id": "9f000cbe-c752-4c7b-87d0-3dd9e75e7689",
   "metadata": {
    "tags": []
   },
   "outputs": [],
   "source": [
    "p = ee.Algorithms.If(ee.Algorithms.IsEqual(p, None), 101, p)\n",
    "\n",
    "waterFill = waterOccurrence.gte(ee.Image.constant(p)).updateMask(  # TODO\n",
    "    water.unmask(0, False).Not()\n",
    ")\n",
    "nonWater = ndwi.lt(-0.15).unmask(0, False)\n",
    "waterFill = waterFill.updateMask(nonWater.Not())"
   ]
  },
  {
   "cell_type": "markdown",
   "id": "e4e21562-7540-435c-85af-27ae499a649d",
   "metadata": {},
   "source": [
    "## Plot Debug Layers\n",
    "\n",
    "To investigate each step of the algorithm, lots of debugging layers are printed together with the water area observed and the water area filled"
   ]
  },
  {
   "cell_type": "code",
   "execution_count": 47,
   "id": "807d7f6d-4255-441c-b442-04af1480f886",
   "metadata": {
    "tags": []
   },
   "outputs": [
    {
     "data": {
      "application/vnd.jupyter.widget-view+json": {
       "model_id": "40acd862231941f3ad15b56f40f0753b",
       "version_major": 2,
       "version_minor": 0
      },
      "text/plain": [
       "Map(center=[20, 0], controls=(WidgetControl(options=['position', 'transparent_bg'], widget=HBox(children=(Togg…"
      ]
     },
     "metadata": {},
     "output_type": "display_data"
    }
   ],
   "source": [
    "Map = geemap.Map()\n",
    "Map.addLayer(i, {\"bands\": [\"red\", \"green\", \"blue\"]}, \"raw\")\n",
    "Map.addLayer(waterFill, {}, \"waterFill\")\n",
    "Map.addLayer(waterOccurrence, {}, \"water occurrence used for water fill\")\n",
    "Map.addLayer(water, {}, \"water detected\")\n",
    "Map.addLayer(nonWater, {}, \"very low NDWI levels\")\n",
    "Map.addLayer(waterEdge, {\"palette\": [\"red\", \"blue\"]}, \"edge detected\")\n",
    "Map.centerObject(waterbody)\n",
    "Map"
   ]
  },
  {
   "cell_type": "code",
   "execution_count": 48,
   "id": "93458cf2-aec2-41e6-9dbb-a6b126a37f13",
   "metadata": {
    "tags": []
   },
   "outputs": [],
   "source": [
    "fill = (\n",
    "        ee.Image.pixelArea()\n",
    "        .mask(waterFill)\n",
    "        .reduceRegion(**{\"reducer\": ee.Reducer.sum(), \"geometry\": geom, \"scale\": scale})\n",
    "        .get(\"area\")\n",
    "    )"
   ]
  },
  {
   "cell_type": "code",
   "execution_count": 49,
   "id": "9954a2a1-0760-4bf5-b683-a8e82f46eecf",
   "metadata": {
    "tags": []
   },
   "outputs": [
    {
     "name": "stdout",
     "output_type": "stream",
     "text": [
      "fill is 183.85588258496094 km2\n",
      "area is 70.7419107421875 km2\n"
     ]
    }
   ],
   "source": [
    "print(f\"fill is {fill.getInfo() / 1e6} km2\")\n",
    "print(f\"area is {area.getInfo() / 1e6} km2\")"
   ]
  }
 ],
 "metadata": {
  "kernelspec": {
   "display_name": "Python 3 (ipykernel)",
   "language": "python",
   "name": "python3"
  },
  "language_info": {
   "codemirror_mode": {
    "name": "ipython",
    "version": 3
   },
   "file_extension": ".py",
   "mimetype": "text/x-python",
   "name": "python",
   "nbconvert_exporter": "python",
   "pygments_lexer": "ipython3",
   "version": "3.9.15"
  }
 },
 "nbformat": 4,
 "nbformat_minor": 5
}
